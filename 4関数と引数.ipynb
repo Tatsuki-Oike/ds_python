{
 "cells": [
  {
   "cell_type": "markdown",
   "id": "bfb01724-236d-451c-923e-b2bee9f604c6",
   "metadata": {},
   "source": [
    "# 1 関数の定義"
   ]
  },
  {
   "cell_type": "code",
   "execution_count": 1,
   "id": "def8284e-825f-4220-a7e9-09007ef22948",
   "metadata": {},
   "outputs": [],
   "source": [
    "def square(x):\n",
    "    y = x**2\n",
    "    return y"
   ]
  },
  {
   "cell_type": "code",
   "execution_count": 2,
   "id": "d6f2cbb6-7b2b-4a4d-bf85-57050bc1111c",
   "metadata": {},
   "outputs": [
    {
     "data": {
      "text/plain": [
       "9"
      ]
     },
     "execution_count": 2,
     "metadata": {},
     "output_type": "execute_result"
    }
   ],
   "source": [
    "square(3)"
   ]
  },
  {
   "cell_type": "code",
   "execution_count": 3,
   "id": "e851bdd6-b53e-4e4d-81ef-6b24f474eae5",
   "metadata": {},
   "outputs": [],
   "source": [
    "def print_type(object):\n",
    "    print(type(object))"
   ]
  },
  {
   "cell_type": "code",
   "execution_count": 4,
   "id": "bd5db31e-d546-4b63-aeb2-7bcffa90d496",
   "metadata": {},
   "outputs": [
    {
     "name": "stdout",
     "output_type": "stream",
     "text": [
      "<class 'int'>\n",
      "<class 'float'>\n",
      "<class 'str'>\n",
      "<class 'bool'>\n",
      "<class 'NoneType'>\n",
      "<class 'list'>\n",
      "<class 'tuple'>\n",
      "<class 'dict'>\n",
      "<class 'function'>\n"
     ]
    }
   ],
   "source": [
    "print_type(1)\n",
    "print_type(1.1)\n",
    "print_type(\"Hello, World\")\n",
    "print_type(True)\n",
    "print_type(None)\n",
    "print_type([])\n",
    "print_type(())\n",
    "print_type({})\n",
    "print_type(print_type)"
   ]
  },
  {
   "cell_type": "markdown",
   "id": "ca1f7530-3bfb-421d-92e8-80aae37cebad",
   "metadata": {},
   "source": [
    "# 2 位置引数とキーワード引数"
   ]
  },
  {
   "cell_type": "code",
   "execution_count": 5,
   "id": "4be235c6-d1a7-4905-8af8-274417ab7329",
   "metadata": {},
   "outputs": [],
   "source": [
    "def add(x1, x2):\n",
    "    print(x1, x2)\n",
    "    y = x1 + x2\n",
    "    return y"
   ]
  },
  {
   "cell_type": "code",
   "execution_count": 6,
   "id": "e91d367c-a95b-4d91-8fc0-d8fa46435fa6",
   "metadata": {},
   "outputs": [
    {
     "name": "stdout",
     "output_type": "stream",
     "text": [
      "1 3\n"
     ]
    },
    {
     "data": {
      "text/plain": [
       "4"
      ]
     },
     "execution_count": 6,
     "metadata": {},
     "output_type": "execute_result"
    }
   ],
   "source": [
    "add(1, 3)"
   ]
  },
  {
   "cell_type": "code",
   "execution_count": 7,
   "id": "fe85b0d2-5d6c-45ee-8ec7-3cd3f06151f9",
   "metadata": {},
   "outputs": [
    {
     "name": "stdout",
     "output_type": "stream",
     "text": [
      "1 3\n"
     ]
    },
    {
     "data": {
      "text/plain": [
       "4"
      ]
     },
     "execution_count": 7,
     "metadata": {},
     "output_type": "execute_result"
    }
   ],
   "source": [
    "add(x1=1, x2=3)"
   ]
  },
  {
   "cell_type": "code",
   "execution_count": 8,
   "id": "7cdaeed2-0284-42fc-8586-83d6080cd1fc",
   "metadata": {},
   "outputs": [
    {
     "name": "stdout",
     "output_type": "stream",
     "text": [
      "1 3\n"
     ]
    },
    {
     "data": {
      "text/plain": [
       "4"
      ]
     },
     "execution_count": 8,
     "metadata": {},
     "output_type": "execute_result"
    }
   ],
   "source": [
    "add(x2=3, x1=1)"
   ]
  },
  {
   "cell_type": "markdown",
   "id": "ccb67ef1-a869-4874-8e40-cbe154ee87f1",
   "metadata": {},
   "source": [
    "# 3 可変長の引数"
   ]
  },
  {
   "cell_type": "markdown",
   "id": "17871347-e3e3-433d-8f8a-41aa1c1b2d3a",
   "metadata": {},
   "source": [
    "## 3.1 可変長の位置引数"
   ]
  },
  {
   "cell_type": "code",
   "execution_count": 9,
   "id": "a44b50fc-ea89-4f1d-af2b-87c853004f5e",
   "metadata": {},
   "outputs": [],
   "source": [
    "def add_args(*args):\n",
    "    print(args)\n",
    "    print_type(args)\n",
    "    y = 0\n",
    "    for arg in args:\n",
    "        y += arg\n",
    "    return y"
   ]
  },
  {
   "cell_type": "code",
   "execution_count": 10,
   "id": "47b96b9a-59c4-4b76-836d-6e49b5f2b169",
   "metadata": {},
   "outputs": [
    {
     "name": "stdout",
     "output_type": "stream",
     "text": [
      "(1, 2, 3, 4, 5)\n",
      "<class 'tuple'>\n"
     ]
    },
    {
     "data": {
      "text/plain": [
       "15"
      ]
     },
     "execution_count": 10,
     "metadata": {},
     "output_type": "execute_result"
    }
   ],
   "source": [
    "add_args(1, 2, 3, 4, 5)"
   ]
  },
  {
   "cell_type": "markdown",
   "id": "fda3721c-9120-46db-9678-2404edfff4f6",
   "metadata": {},
   "source": [
    "## 3.2 可変長のキーワード引数"
   ]
  },
  {
   "cell_type": "code",
   "execution_count": 11,
   "id": "6376612f-67e8-43fd-9ec7-68d964df9ad7",
   "metadata": {},
   "outputs": [],
   "source": [
    "def add_kwargs(**kwargs):\n",
    "    print(kwargs)\n",
    "    print_type(kwargs)\n",
    "    y = 0\n",
    "    for kwarg in kwargs.values():\n",
    "        y += kwarg\n",
    "    return y"
   ]
  },
  {
   "cell_type": "code",
   "execution_count": 12,
   "id": "90b48000-c4a9-4722-8e36-49dffd38ce7b",
   "metadata": {},
   "outputs": [
    {
     "name": "stdout",
     "output_type": "stream",
     "text": [
      "{'x1': 1, 'x2': 3, 'x3': 5}\n",
      "<class 'dict'>\n"
     ]
    },
    {
     "data": {
      "text/plain": [
       "9"
      ]
     },
     "execution_count": 12,
     "metadata": {},
     "output_type": "execute_result"
    }
   ],
   "source": [
    "add_kwargs(x1=1, x2=3, x3=5)"
   ]
  },
  {
   "cell_type": "markdown",
   "id": "90a55ec2-9b31-4541-942d-b9b9c34565db",
   "metadata": {},
   "source": [
    "## 3.3 可変長の引数"
   ]
  },
  {
   "cell_type": "code",
   "execution_count": 13,
   "id": "97a92b38-61d9-4129-ae29-550836a26801",
   "metadata": {},
   "outputs": [],
   "source": [
    "def print_args_kwargs(*args, **kwargs):\n",
    "    print(args)\n",
    "    print(kwargs)"
   ]
  },
  {
   "cell_type": "code",
   "execution_count": 14,
   "id": "7a2b4a73-d4e8-44a7-a40d-fbe176e6da61",
   "metadata": {},
   "outputs": [
    {
     "name": "stdout",
     "output_type": "stream",
     "text": [
      "(1, 2)\n",
      "{'x1': 3, 'x2': 4}\n"
     ]
    }
   ],
   "source": [
    "print_args_kwargs(1, 2, x1=3, x2=4)"
   ]
  },
  {
   "cell_type": "code",
   "execution_count": 15,
   "id": "22938818-05d2-4239-832a-a0285ab87a27",
   "metadata": {},
   "outputs": [
    {
     "ename": "SyntaxError",
     "evalue": "positional argument follows keyword argument (3621844896.py, line 1)",
     "output_type": "error",
     "traceback": [
      "\u001b[0;36m  Input \u001b[0;32mIn [15]\u001b[0;36m\u001b[0m\n\u001b[0;31m    print_args_kwargs(1, x1=3, 2, x2=4)\u001b[0m\n\u001b[0m                                      ^\u001b[0m\n\u001b[0;31mSyntaxError\u001b[0m\u001b[0;31m:\u001b[0m positional argument follows keyword argument\n"
     ]
    }
   ],
   "source": [
    "print_args_kwargs(1, x1=3, 2, x2=4)"
   ]
  },
  {
   "cell_type": "markdown",
   "id": "b7ec2987-edad-4443-9ca7-92693beffa38",
   "metadata": {},
   "source": [
    "## 3.4 アンパック"
   ]
  },
  {
   "cell_type": "code",
   "execution_count": 16,
   "id": "98f53917-8831-4949-b4cb-1dd08066061a",
   "metadata": {},
   "outputs": [],
   "source": [
    "def print_args(*args):\n",
    "    for arg in args:\n",
    "        print(arg)"
   ]
  },
  {
   "cell_type": "code",
   "execution_count": 17,
   "id": "de621a52-022b-4c4a-88f2-283517bbb84b",
   "metadata": {},
   "outputs": [
    {
     "name": "stdout",
     "output_type": "stream",
     "text": [
      "[1, 'a']\n"
     ]
    }
   ],
   "source": [
    "args_list = [1, \"a\"]\n",
    "print_args(args_list)"
   ]
  },
  {
   "cell_type": "code",
   "execution_count": 18,
   "id": "0a9b5324-b1e0-4498-9d8a-001271814960",
   "metadata": {},
   "outputs": [
    {
     "name": "stdout",
     "output_type": "stream",
     "text": [
      "1\n",
      "a\n"
     ]
    }
   ],
   "source": [
    "print_args(*args_list)"
   ]
  },
  {
   "cell_type": "markdown",
   "id": "d8d7609a-2a65-477d-bbc5-bce48eefc721",
   "metadata": {},
   "source": [
    "# 4 デフォルト値のある引数"
   ]
  },
  {
   "cell_type": "markdown",
   "id": "0dc07972-13fc-4e8e-8597-e8ac815cf614",
   "metadata": {},
   "source": [
    "## 4.1 引数なしの場合"
   ]
  },
  {
   "cell_type": "code",
   "execution_count": 19,
   "id": "3f746ad0-7813-4ac4-9b5f-92ed65f3c5a7",
   "metadata": {},
   "outputs": [],
   "source": [
    "def print_type(object=None):\n",
    "    print(type(object))"
   ]
  },
  {
   "cell_type": "code",
   "execution_count": 20,
   "id": "b64a6037-2e9b-4592-baea-731654de15b3",
   "metadata": {},
   "outputs": [
    {
     "name": "stdout",
     "output_type": "stream",
     "text": [
      "<class 'NoneType'>\n"
     ]
    }
   ],
   "source": [
    "print_type()"
   ]
  },
  {
   "cell_type": "markdown",
   "id": "2c3ce661-ff50-43f6-9878-c3c7fa3c732e",
   "metadata": {},
   "source": [
    "## 4.2 定義時の実行"
   ]
  },
  {
   "cell_type": "code",
   "execution_count": 21,
   "id": "cda79da2-2d48-4533-be19-f71978bd636a",
   "metadata": {},
   "outputs": [],
   "source": [
    "import datetime"
   ]
  },
  {
   "cell_type": "code",
   "execution_count": 22,
   "id": "ac3fd2a0-66a9-440c-8315-f0e644a0a838",
   "metadata": {},
   "outputs": [],
   "source": [
    "def print_time(current_time=datetime.datetime.now()):\n",
    "    print(\"デフォルトの時刻:\", current_time)\n",
    "    print(\"実際の時刻:\", datetime.datetime.now())"
   ]
  },
  {
   "cell_type": "code",
   "execution_count": 23,
   "id": "1828300a-2c9e-48ef-b91c-3963cd6c9842",
   "metadata": {},
   "outputs": [
    {
     "name": "stdout",
     "output_type": "stream",
     "text": [
      "デフォルトの時刻: 2022-09-20 15:28:22.548917\n",
      "実際の時刻: 2022-09-20 15:28:22.627885\n"
     ]
    }
   ],
   "source": [
    "print_time()"
   ]
  },
  {
   "cell_type": "code",
   "execution_count": 24,
   "id": "f5a0f425-6bb5-4f7f-b59f-ba893185369a",
   "metadata": {},
   "outputs": [
    {
     "name": "stdout",
     "output_type": "stream",
     "text": [
      "デフォルトの時刻: 2022-09-20 15:28:22.548917\n",
      "実際の時刻: 2022-09-20 15:28:22.714958\n"
     ]
    }
   ],
   "source": [
    "print_time()"
   ]
  },
  {
   "cell_type": "markdown",
   "id": "53df4d52-538a-4d32-a3f1-ad060d1da9b8",
   "metadata": {},
   "source": [
    "## 4.3 mutableなデフォルト引数"
   ]
  },
  {
   "cell_type": "code",
   "execution_count": 25,
   "id": "e4364dc1-1675-4774-813f-859507f9a9d4",
   "metadata": {},
   "outputs": [],
   "source": [
    "def print_list(sample_list=[1, 2]):\n",
    "    sample_list.append(0)\n",
    "    print(sample_list)"
   ]
  },
  {
   "cell_type": "code",
   "execution_count": 26,
   "id": "283f7966-f263-410d-90dc-300b794c0ea1",
   "metadata": {},
   "outputs": [
    {
     "name": "stdout",
     "output_type": "stream",
     "text": [
      "[1, 2, 0]\n",
      "[1, 2, 0, 0]\n"
     ]
    }
   ],
   "source": [
    "print_list()\n",
    "print_list()"
   ]
  },
  {
   "cell_type": "code",
   "execution_count": 27,
   "id": "0510b709-ee42-47af-b1d7-dd899aca52a9",
   "metadata": {},
   "outputs": [],
   "source": [
    "def print_list(sample_list=None):\n",
    "    sample_list = []\n",
    "    sample_list.append(0)\n",
    "    print(sample_list)"
   ]
  },
  {
   "cell_type": "code",
   "execution_count": 28,
   "id": "d011de22-1024-424d-8544-f577b3157390",
   "metadata": {},
   "outputs": [
    {
     "name": "stdout",
     "output_type": "stream",
     "text": [
      "[0]\n",
      "[0]\n"
     ]
    }
   ],
   "source": [
    "print_list()\n",
    "print_list()"
   ]
  },
  {
   "cell_type": "markdown",
   "id": "d8479edb-e364-4254-bd1a-c7faae097684",
   "metadata": {},
   "source": [
    "# 5 lambda関数"
   ]
  },
  {
   "cell_type": "code",
   "execution_count": 29,
   "id": "1f735f9e-16a6-45c9-bd9b-c861b25f1f5a",
   "metadata": {},
   "outputs": [],
   "source": [
    "def square(x):\n",
    "    y = x**2\n",
    "    return y"
   ]
  },
  {
   "cell_type": "code",
   "execution_count": 30,
   "id": "4a8ebc76-557e-41b8-bdfc-45eddf77e324",
   "metadata": {},
   "outputs": [],
   "source": [
    "square_lambda = lambda x: x**2"
   ]
  },
  {
   "cell_type": "code",
   "execution_count": 31,
   "id": "3e9a39fc-d964-4dee-97cb-157ad0e788ea",
   "metadata": {},
   "outputs": [
    {
     "data": {
      "text/plain": [
       "9"
      ]
     },
     "execution_count": 31,
     "metadata": {},
     "output_type": "execute_result"
    }
   ],
   "source": [
    "square_lambda(3)"
   ]
  },
  {
   "cell_type": "code",
   "execution_count": 32,
   "id": "29a03b94-f112-4ce1-9cd0-5d18821aaf30",
   "metadata": {},
   "outputs": [
    {
     "name": "stdout",
     "output_type": "stream",
     "text": [
      "<class 'function'>\n"
     ]
    }
   ],
   "source": [
    "print_type(square)"
   ]
  },
  {
   "cell_type": "code",
   "execution_count": null,
   "id": "a88b5ca1-27c5-409d-a81b-af62a26ac905",
   "metadata": {},
   "outputs": [],
   "source": []
  },
  {
   "cell_type": "code",
   "execution_count": null,
   "id": "86e2ddf3-7a08-4105-a174-064dc27f387e",
   "metadata": {},
   "outputs": [],
   "source": [
    "def function(x1, x2, ..., xn):\n",
    "    # 処理1\n",
    "    # 処理2\n",
    "    # ...\n",
    "    # 処理n\n",
    "    return y"
   ]
  }
 ],
 "metadata": {
  "kernelspec": {
   "display_name": "Python 3 (ipykernel)",
   "language": "python",
   "name": "python3"
  },
  "language_info": {
   "codemirror_mode": {
    "name": "ipython",
    "version": 3
   },
   "file_extension": ".py",
   "mimetype": "text/x-python",
   "name": "python",
   "nbconvert_exporter": "python",
   "pygments_lexer": "ipython3",
   "version": "3.9.12"
  }
 },
 "nbformat": 4,
 "nbformat_minor": 5
}
