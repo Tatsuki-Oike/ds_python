{
 "cells": [
  {
   "cell_type": "markdown",
   "id": "e6480853-2386-4b42-ae16-1c164b8cf665",
   "metadata": {},
   "source": [
    "# 0 概要"
   ]
  },
  {
   "cell_type": "markdown",
   "id": "082b7e6d-91d8-4ef9-af8f-f71b5587db67",
   "metadata": {},
   "source": [
    "## 0.1 型の種類"
   ]
  },
  {
   "cell_type": "markdown",
   "id": "440bde12-4cbe-4752-b08b-472c6244f5bb",
   "metadata": {},
   "source": [
    "|Objectの型|説明|例|\n",
    "|---|---|---|\n",
    "|int|整数|-1, 1, 200|\n",
    "|float|少数|-3.2, 1.0, 40.3|\n",
    "|str|文字列|\"Hello\", \"2\", \"3.4\"|\n",
    "|bool|真偽値|True, False|\n",
    "|NoneType|存在しない値|None|"
   ]
  },
  {
   "cell_type": "markdown",
   "id": "a434e698-525e-4a0e-adbb-f03cc2738b48",
   "metadata": {},
   "source": [
    "|Objectの型|例|\n",
    "|---|---|\n",
    "|list|[1, 2, 2]|\n",
    "|tuple|(1, 2, 2)|\n",
    "|dict|{\"a\": 1, \"b\": 2}|\n",
    "|set|{1, 2, 3}|"
   ]
  },
  {
   "cell_type": "markdown",
   "id": "40306ef6-a67a-439d-bc5b-11d0df720aed",
   "metadata": {},
   "source": [
    "## 0.2 型の特徴"
   ]
  },
  {
   "cell_type": "markdown",
   "id": "680c76d8-b38d-4f9d-9c45-0529bb5913d1",
   "metadata": {},
   "source": [
    "* 型の作成方法\n",
    "* 型の演算\n",
    "* 参照\n",
    "* 変更\n",
    "* メソッド\n",
    "* 型の変換\n",
    "* その他"
   ]
  },
  {
   "cell_type": "markdown",
   "id": "f4bfd856-c016-456b-b109-ae5ef25f57fc",
   "metadata": {},
   "source": [
    "# 1 list型"
   ]
  },
  {
   "cell_type": "markdown",
   "id": "46b0b96e-92c3-45fd-86e8-5ce772ccca7f",
   "metadata": {},
   "source": [
    "## 1.1 list型の作成"
   ]
  },
  {
   "cell_type": "code",
   "execution_count": 1,
   "id": "8d58ae51-3c45-455f-8eb2-0065a670803f",
   "metadata": {},
   "outputs": [
    {
     "name": "stdout",
     "output_type": "stream",
     "text": [
      "[1, 2, 5, 8] <class 'list'>\n"
     ]
    }
   ],
   "source": [
    "sample_list1 = [1, 2, 5, 8]\n",
    "sample_list2 = [\"a\", \"b\", \"c\"]\n",
    "sample_list3 = [1, 2, \"a\"]\n",
    "sample_list4 = [1, [1,3], \"a\"]\n",
    "print(sample_list1, type(sample_list1))"
   ]
  },
  {
   "cell_type": "markdown",
   "id": "07b7aa44-eddf-424f-86ed-6f6b7efdac2e",
   "metadata": {},
   "source": [
    "## 1.2 演算"
   ]
  },
  {
   "cell_type": "code",
   "execution_count": 2,
   "id": "02442e36-8990-445e-af95-11ef7f72eba7",
   "metadata": {},
   "outputs": [
    {
     "name": "stdout",
     "output_type": "stream",
     "text": [
      "[1, 2, 5, 8, 'a', 'b', 'c']\n",
      "[1, 2, 5, 8, 1, 2, 5, 8, 1, 2, 5, 8]\n",
      "True\n"
     ]
    }
   ],
   "source": [
    "print(sample_list1+sample_list2)\n",
    "print(sample_list1*3)\n",
    "print(1 in sample_list1)"
   ]
  },
  {
   "cell_type": "markdown",
   "id": "43d08606-a481-4c6c-bca9-0846c0e8badd",
   "metadata": {},
   "source": [
    "## 1.3 参照"
   ]
  },
  {
   "cell_type": "code",
   "execution_count": 3,
   "id": "e8182ec2-ae31-4cc8-8227-5eabac1f57d3",
   "metadata": {},
   "outputs": [
    {
     "name": "stdout",
     "output_type": "stream",
     "text": [
      "[1, 2, 5, 8]\n",
      "5\n",
      "[1, 2]\n",
      "[5, 8]\n",
      "[5, 8]\n",
      "[1, 5]\n",
      "8\n",
      "[2, 5]\n"
     ]
    }
   ],
   "source": [
    "print(sample_list1)\n",
    "print(sample_list1[2])\n",
    "print(sample_list1[:2])\n",
    "print(sample_list1[2:])\n",
    "print(sample_list1[2:4])\n",
    "print(sample_list1[::2])\n",
    "print(sample_list1[-1])\n",
    "print(sample_list1[-3:-1])"
   ]
  },
  {
   "cell_type": "markdown",
   "id": "c0c7858a-0443-4d67-b38b-81c9383007be",
   "metadata": {},
   "source": [
    "## 1.4 変更"
   ]
  },
  {
   "cell_type": "code",
   "execution_count": 4,
   "id": "1424aba7-6580-43b9-9d8c-fea9ebf1dbe1",
   "metadata": {},
   "outputs": [
    {
     "name": "stdout",
     "output_type": "stream",
     "text": [
      "[1, 2, 10, 4, 5]\n",
      "[1, 2, 4, 5]\n"
     ]
    }
   ],
   "source": [
    "sample_list5 = [1, 2, 3, 4, 5]\n",
    "\n",
    "# 値の変更\n",
    "sample_list5[2] = 10\n",
    "print(sample_list5)\n",
    "\n",
    "# 値の消去\n",
    "del sample_list5[2]\n",
    "print(sample_list5)"
   ]
  },
  {
   "cell_type": "markdown",
   "id": "19517e64-ff6d-4325-a15d-e7a836d025a3",
   "metadata": {},
   "source": [
    "## 1.5 メソッド"
   ]
  },
  {
   "cell_type": "code",
   "execution_count": 5,
   "id": "8ce75021-a1a0-4729-ba0f-0f2a4bc9bce0",
   "metadata": {},
   "outputs": [
    {
     "name": "stdout",
     "output_type": "stream",
     "text": [
      "[1, 2, 1, 3, 4, 5]\n",
      "[1, 2, 1, 3, 4, 5, 5, 6]\n",
      "[1, 2, 1, 10, 3, 4, 5, 5, 6]\n",
      "[1, 2, 1, 3, 4, 5, 5, 6]\n",
      "[1, 2, 3, 4, 5, 5, 6]\n"
     ]
    }
   ],
   "source": [
    "sample_list6 = [1, 2, 1, 3, 4]\n",
    "\n",
    "sample_list6.append(5)\n",
    "print(sample_list6)\n",
    "\n",
    "sample_list6.extend([5,6])\n",
    "print(sample_list6)\n",
    "\n",
    "sample_list6.insert(3,10)\n",
    "print(sample_list6)\n",
    "\n",
    "sample_list6.remove(10)\n",
    "print(sample_list6)\n",
    "\n",
    "sample_list6.pop(2)\n",
    "print(sample_list6)"
   ]
  },
  {
   "cell_type": "code",
   "execution_count": 6,
   "id": "cb44e1e7-ed7f-468a-b946-3ad114312671",
   "metadata": {},
   "outputs": [
    {
     "name": "stdout",
     "output_type": "stream",
     "text": [
      "[1, 2, 3, 4, 5, 5, 6]\n",
      "1\n",
      "3\n"
     ]
    }
   ],
   "source": [
    "print(sample_list6)\n",
    "print(sample_list6.count(4))\n",
    "print(sample_list6.index(4))"
   ]
  },
  {
   "cell_type": "code",
   "execution_count": 7,
   "id": "093eda89-38cc-4929-beff-e57d92a00796",
   "metadata": {},
   "outputs": [
    {
     "name": "stdout",
     "output_type": "stream",
     "text": [
      "[1, 2, 3, 4, 5, 5, 6]\n",
      "[6, 5, 5, 4, 3, 2, 1]\n"
     ]
    }
   ],
   "source": [
    "sample_list6.sort()\n",
    "print(sample_list6)\n",
    "\n",
    "sample_list6.reverse()\n",
    "print(sample_list6)"
   ]
  },
  {
   "cell_type": "markdown",
   "id": "5f859fb8-eec4-4c8b-8524-4b1061ac81e7",
   "metadata": {},
   "source": [
    "## 1.6 型の変換"
   ]
  },
  {
   "cell_type": "code",
   "execution_count": 8,
   "id": "fa3b857f-03ff-4350-982c-cd8bc3e9925f",
   "metadata": {},
   "outputs": [
    {
     "name": "stdout",
     "output_type": "stream",
     "text": [
      "False True\n",
      "[1, 2, 2]\n",
      "(1, 2, 2)\n",
      "{1, 2}\n"
     ]
    }
   ],
   "source": [
    "sample_list = [1, 2, 2]\n",
    "print(bool([]), bool(sample_list))\n",
    "print(str(sample_list))\n",
    "print(tuple(sample_list))\n",
    "print(set(sample_list))"
   ]
  },
  {
   "cell_type": "code",
   "execution_count": 9,
   "id": "9c250076-77fc-4262-9212-1e3dcb034fd6",
   "metadata": {},
   "outputs": [
    {
     "name": "stdout",
     "output_type": "stream",
     "text": [
      "['H', 'e', 'l', 'l', 'o']\n",
      "[1, 2, 2]\n",
      "['a', 'b']\n",
      "[1, 2]\n"
     ]
    }
   ],
   "source": [
    "print(list(\"Hello\"))\n",
    "print(list((1, 2, 2)))\n",
    "print(list({\"a\": 1, \"b\": 2}))\n",
    "print(list({1, 2, 2}))"
   ]
  },
  {
   "cell_type": "markdown",
   "id": "1e2965e1-ddf4-4b10-9c53-c64e06b25856",
   "metadata": {},
   "source": [
    "## 1.7 str型とlist型"
   ]
  },
  {
   "cell_type": "code",
   "execution_count": 10,
   "id": "62fda8d1-5d7d-4fad-a9d6-285639b81881",
   "metadata": {},
   "outputs": [
    {
     "name": "stdout",
     "output_type": "stream",
     "text": [
      "str to list\n",
      "['Hello,', 'World!']\n",
      "['Users', 'Username', 'Documents']\n",
      "\n",
      "list to str\n",
      "Users Username Documents\n",
      "Users/Username/Documents\n"
     ]
    }
   ],
   "source": [
    "sample_text = \"Hello, World!\"\n",
    "sample_path = \"Users/Username/Documents\"\n",
    "sample_list7 = [\"Users\", \"Username\", \"Documents\"]\n",
    "\n",
    "print(\"str to list\")\n",
    "print(sample_text.split())\n",
    "print(sample_path.split(\"/\"))\n",
    "\n",
    "print(\"\\nlist to str\")\n",
    "print(\" \".join(sample_list7))\n",
    "print(\"/\".join(sample_list7))"
   ]
  },
  {
   "cell_type": "markdown",
   "id": "b57f8147-3551-4582-a804-eaeca655c00e",
   "metadata": {},
   "source": [
    "# 2 tuple型"
   ]
  },
  {
   "cell_type": "markdown",
   "id": "6ef2804a-45d1-4942-b64e-763e8a5d836f",
   "metadata": {},
   "source": [
    "## 2.1 tuple型の作成"
   ]
  },
  {
   "cell_type": "code",
   "execution_count": 11,
   "id": "f046b6a6-38bd-4922-b1b4-c8b45c5b25e4",
   "metadata": {},
   "outputs": [
    {
     "name": "stdout",
     "output_type": "stream",
     "text": [
      "(1, 2, 5, 8) <class 'tuple'>\n"
     ]
    }
   ],
   "source": [
    "sample_tuple1 = (1, 2, 5, 8)\n",
    "sample_tuple2 = (\"a\", \"b\", \"c\")\n",
    "sample_tuple3 = (1, 2, \"a\")\n",
    "sample_tuple4 = (1, [1,3], \"a\")\n",
    "print(sample_tuple1, type(sample_tuple1))"
   ]
  },
  {
   "cell_type": "markdown",
   "id": "a6334499-215e-4d1b-a003-7e0231ccc36f",
   "metadata": {},
   "source": [
    "## 2.2 演算"
   ]
  },
  {
   "cell_type": "code",
   "execution_count": 12,
   "id": "6ec7a9a2-3cbd-4ec1-ac53-5e706eca0a61",
   "metadata": {},
   "outputs": [
    {
     "name": "stdout",
     "output_type": "stream",
     "text": [
      "(1, 2, 5, 8, 'a', 'b', 'c')\n",
      "(1, 2, 5, 8, 1, 2, 5, 8, 1, 2, 5, 8)\n",
      "True\n"
     ]
    }
   ],
   "source": [
    "print(sample_tuple1+sample_tuple2)\n",
    "print(sample_tuple1*3)\n",
    "print(1 in sample_tuple1)"
   ]
  },
  {
   "cell_type": "markdown",
   "id": "aada055c-fa27-4faa-84ea-bf7b6168fbcb",
   "metadata": {},
   "source": [
    "## 2.3 参照"
   ]
  },
  {
   "cell_type": "code",
   "execution_count": 13,
   "id": "24072ae3-34b8-458b-a73e-234e4cdf4d71",
   "metadata": {},
   "outputs": [
    {
     "name": "stdout",
     "output_type": "stream",
     "text": [
      "(1, 2, 5, 8)\n",
      "5\n",
      "(1, 2)\n",
      "(5, 8)\n",
      "(5, 8)\n",
      "(1, 5)\n",
      "8\n",
      "(2, 5)\n"
     ]
    }
   ],
   "source": [
    "print(sample_tuple1)\n",
    "print(sample_tuple1[2])\n",
    "print(sample_tuple1[:2])\n",
    "print(sample_tuple1[2:])\n",
    "print(sample_tuple1[2:4])\n",
    "print(sample_tuple1[::2])\n",
    "print(sample_tuple1[-1])\n",
    "print(sample_tuple1[-3:-1])"
   ]
  },
  {
   "cell_type": "markdown",
   "id": "11064787-ce98-4e66-84fa-ac39d62a5977",
   "metadata": {},
   "source": [
    "## 2.4 内容の変更"
   ]
  },
  {
   "cell_type": "code",
   "execution_count": 14,
   "id": "d02abbdf-1a53-44ae-a94c-3c0190398b08",
   "metadata": {},
   "outputs": [],
   "source": [
    "sample_tuple5 = (1, 2, 3, 4, 5)\n",
    "\n",
    "# 値の変更\n",
    "# sample_tuple5[2] = 10\n",
    "# print(sample_tuple5)\n",
    "\n",
    "# 値の消去\n",
    "# del sample_tuple5[2]\n",
    "# print(sample_tuple5)"
   ]
  },
  {
   "cell_type": "markdown",
   "id": "95d92a0d-64bf-4543-a2c0-973edd88ff44",
   "metadata": {},
   "source": [
    "## 2.5 メソッド"
   ]
  },
  {
   "cell_type": "code",
   "execution_count": 15,
   "id": "bbdf2da7-e4b1-4112-928b-7db272f05950",
   "metadata": {},
   "outputs": [
    {
     "name": "stdout",
     "output_type": "stream",
     "text": [
      "1\n",
      "4\n"
     ]
    }
   ],
   "source": [
    "sample_tuple6 = (1, 2, 1, 3, 4)\n",
    "\n",
    "print(sample_tuple6.count(4))\n",
    "print(sample_tuple6.index(4))"
   ]
  },
  {
   "cell_type": "markdown",
   "id": "b0b6891b-97c0-484f-8948-ae5a1e8042c6",
   "metadata": {},
   "source": [
    "## 2.6 型の変換"
   ]
  },
  {
   "cell_type": "code",
   "execution_count": 16,
   "id": "925a35ce-1c1d-40e7-b732-dc9c47789230",
   "metadata": {},
   "outputs": [
    {
     "name": "stdout",
     "output_type": "stream",
     "text": [
      "False True\n",
      "(1, 2, 2)\n",
      "[1, 2, 2]\n",
      "{1, 2}\n"
     ]
    }
   ],
   "source": [
    "sample_tuple = (1, 2, 2)\n",
    "print(bool(()), bool(sample_tuple))\n",
    "print(str(sample_tuple))\n",
    "print(list(sample_tuple))\n",
    "print(set(sample_tuple))"
   ]
  },
  {
   "cell_type": "code",
   "execution_count": 17,
   "id": "c1b2edf0-f739-4518-a2c4-adcab33c4827",
   "metadata": {},
   "outputs": [
    {
     "name": "stdout",
     "output_type": "stream",
     "text": [
      "('H', 'e', 'l', 'l', 'o')\n",
      "(1, 2, 2)\n",
      "('a', 'b')\n",
      "(1, 2)\n"
     ]
    }
   ],
   "source": [
    "print(tuple(\"Hello\"))\n",
    "print(tuple([1, 2, 2]))\n",
    "print(tuple({\"a\": 1, \"b\": 2}))\n",
    "print(tuple({1, 2, 2}))"
   ]
  },
  {
   "cell_type": "markdown",
   "id": "cc18d9aa-a669-4728-8a33-00aabc65b9d4",
   "metadata": {},
   "source": [
    "# 3 dict型"
   ]
  },
  {
   "cell_type": "markdown",
   "id": "dac70994-2817-4a0f-bfc2-e16387ac0d84",
   "metadata": {},
   "source": [
    "## 3.1 dict型の作成"
   ]
  },
  {
   "cell_type": "code",
   "execution_count": 18,
   "id": "5f0112aa-447a-4d4f-98b1-3df1477305f4",
   "metadata": {},
   "outputs": [
    {
     "name": "stdout",
     "output_type": "stream",
     "text": [
      "{'key1': 'value1', 'key2': 'value2'} <class 'dict'>\n",
      "dict_keys(['key1', 'key2']) <class 'dict_keys'>\n",
      "dict_values(['value1', 'value2']) <class 'dict_values'>\n"
     ]
    }
   ],
   "source": [
    "sample_dict1 = {\"key1\": \"value1\", \"key2\": \"value2\"}\n",
    "sample_dict2 = {\"a\": 1, \"b\": 2, \"c\": [1, 2, 3]}\n",
    "print(sample_dict1, type(sample_dict1))\n",
    "print(sample_dict1.keys(), type(sample_dict1.keys()))\n",
    "print(sample_dict1.values(), type(sample_dict1.values()))"
   ]
  },
  {
   "cell_type": "markdown",
   "id": "295fd99a-9e68-4053-820a-ea8eaa7430ed",
   "metadata": {},
   "source": [
    "## 3.2 演算"
   ]
  },
  {
   "cell_type": "code",
   "execution_count": 19,
   "id": "5488ad48-a5a1-4016-8989-4cfdfa244ea7",
   "metadata": {},
   "outputs": [
    {
     "name": "stdout",
     "output_type": "stream",
     "text": [
      "{'key1': 'value1', 'key2': 'value2'}\n",
      "True\n",
      "False\n",
      "True\n"
     ]
    }
   ],
   "source": [
    "print(sample_dict1)\n",
    "print(\"key1\" in sample_dict1)\n",
    "print(\"value1\" in sample_dict1)\n",
    "print(\"value1\" in sample_dict1.values())"
   ]
  },
  {
   "cell_type": "markdown",
   "id": "af832845-cb20-4faf-abe5-f59e45a63058",
   "metadata": {},
   "source": [
    "## 3.3 参照"
   ]
  },
  {
   "cell_type": "code",
   "execution_count": 20,
   "id": "9a1edea5-ca03-4570-aebe-030e6efd5364",
   "metadata": {},
   "outputs": [
    {
     "name": "stdout",
     "output_type": "stream",
     "text": [
      "{'key1': 'value1', 'key2': 'value2'}\n",
      "{'a': 1, 'b': 2, 'c': [1, 2, 3]}\n",
      "value1\n",
      "2\n"
     ]
    }
   ],
   "source": [
    "print(sample_dict1)\n",
    "print(sample_dict2)\n",
    "print(sample_dict1[\"key1\"])\n",
    "print(sample_dict2[\"b\"])"
   ]
  },
  {
   "cell_type": "markdown",
   "id": "851fac29-65ec-4757-8bab-145c24a2594b",
   "metadata": {},
   "source": [
    "## 3.4 内容の変更"
   ]
  },
  {
   "cell_type": "code",
   "execution_count": 21,
   "id": "b5f8419c-00ad-48f2-8e84-97a397dfb369",
   "metadata": {},
   "outputs": [
    {
     "name": "stdout",
     "output_type": "stream",
     "text": [
      "{'a': 1, 'b': 'Hello', 'c': [1, 2, 3]}\n",
      "{'a': 1, 'b': 5, 'c': [1, 2, 3]}\n",
      "{'b': 5, 'c': [1, 2, 3]}\n",
      "{'b': 5, 'c': [1, 2, 3], 'd': 'add'}\n"
     ]
    }
   ],
   "source": [
    "sample_dict3 = {\"a\": 1, \"b\": \"Hello\", \"c\": [1, 2, 3]}\n",
    "print(sample_dict3)\n",
    "\n",
    "sample_dict3[\"b\"] = 5\n",
    "print(sample_dict3)\n",
    "\n",
    "del sample_dict3[\"a\"]\n",
    "print(sample_dict3)\n",
    "\n",
    "sample_dict3[\"d\"] = \"add\"\n",
    "print(sample_dict3)"
   ]
  },
  {
   "cell_type": "markdown",
   "id": "d2d9a779-fd4e-478a-acd5-7107a86c4edf",
   "metadata": {},
   "source": [
    "## 3.5 メソッド"
   ]
  },
  {
   "cell_type": "code",
   "execution_count": 22,
   "id": "c1264a9c-01cc-43cb-80c6-9f73fe41fefc",
   "metadata": {},
   "outputs": [
    {
     "name": "stdout",
     "output_type": "stream",
     "text": [
      "dict_keys(['key1', 'key2']) <class 'dict_keys'>\n",
      "dict_values(['value1', 'value2']) <class 'dict_values'>\n",
      "dict_items([('key1', 'value1'), ('key2', 'value2')]) <class 'dict_items'>\n",
      "value1\n",
      "None\n",
      "Hello\n"
     ]
    }
   ],
   "source": [
    "sample_dict1 = {\"key1\": \"value1\", \"key2\": \"value2\"}\n",
    "\n",
    "print(sample_dict1.keys(), type(sample_dict1.keys()))\n",
    "print(sample_dict1.values(), type(sample_dict1.values()))\n",
    "print(sample_dict1.items(), type(sample_dict1.items()))\n",
    "\n",
    "print(sample_dict1.get(\"key1\"))\n",
    "print(sample_dict1.get(\"key3\"))\n",
    "print(sample_dict1.get(\"key3\", \"Hello\"))"
   ]
  },
  {
   "cell_type": "markdown",
   "id": "4c8c69e6-770f-471a-9d88-78151f9db2a4",
   "metadata": {},
   "source": [
    "## 3.6 型の変換"
   ]
  },
  {
   "cell_type": "code",
   "execution_count": 23,
   "id": "562de315-243f-44ec-92c9-74e7d5c459ca",
   "metadata": {},
   "outputs": [
    {
     "name": "stdout",
     "output_type": "stream",
     "text": [
      "False True\n",
      "{'a': 1, 'b': 2}\n",
      "('a', 'b')\n",
      "{'b', 'a'}\n",
      "\n",
      "values\n",
      "(1, 2)\n",
      "{1, 2}\n",
      "\n",
      "items\n",
      "(('a', 1), ('b', 2))\n",
      "{('b', 2), ('a', 1)}\n"
     ]
    }
   ],
   "source": [
    "sample_dict = {\"a\": 1, \"b\": 2}\n",
    "print(bool({}), bool(sample_dict))\n",
    "print(str(sample_dict))\n",
    "print(tuple(sample_dict))\n",
    "print(set(sample_dict))\n",
    "\n",
    "print(\"\\nvalues\")\n",
    "print(tuple(sample_dict.values()))\n",
    "print(set(sample_dict.values()))\n",
    "\n",
    "print(\"\\nitems\")\n",
    "print(tuple(sample_dict.items()))\n",
    "print(set(sample_dict.items()))"
   ]
  },
  {
   "cell_type": "markdown",
   "id": "27972e7f-082b-4848-addd-12317304ddac",
   "metadata": {},
   "source": [
    "# 4 set型"
   ]
  },
  {
   "cell_type": "markdown",
   "id": "916e4483-97e7-42be-bc16-1a9dd1c39204",
   "metadata": {},
   "source": [
    "## 4.1 set型の作成"
   ]
  },
  {
   "cell_type": "code",
   "execution_count": 24,
   "id": "397036b6-feab-4ba5-b21d-445be482c666",
   "metadata": {},
   "outputs": [
    {
     "name": "stdout",
     "output_type": "stream",
     "text": [
      "{1, 2, 3, 'a'} <class 'set'>\n",
      "{1, 3, 4} <class 'set'>\n",
      "{1, 'a'} <class 'set'>\n"
     ]
    }
   ],
   "source": [
    "sample_set1 = {1, 2, 3, \"a\"}\n",
    "sample_set2 = {1, 3, 3, 1, 4}\n",
    "sample_set3 = {1, \"a\"}\n",
    "\n",
    "print(sample_set1, type(sample_set1))\n",
    "print(sample_set2, type(sample_set2))\n",
    "print(sample_set3, type(sample_set3))"
   ]
  },
  {
   "cell_type": "markdown",
   "id": "ccdb4ad2-2e8a-40a8-9a86-0571080a46cb",
   "metadata": {},
   "source": [
    "## 4.2 演算"
   ]
  },
  {
   "cell_type": "code",
   "execution_count": 25,
   "id": "9e6afc04-0fb5-4e23-8de2-63862d010a0c",
   "metadata": {},
   "outputs": [
    {
     "name": "stdout",
     "output_type": "stream",
     "text": [
      "{1, 2, 3, 'a'} {1, 3, 4}\n",
      "{1, 2, 3, 'a', 4}\n",
      "{1, 3}\n",
      "{2, 'a'}\n",
      "{2, 4, 'a'}\n",
      "True\n"
     ]
    }
   ],
   "source": [
    "print(sample_set1, sample_set2)\n",
    "\n",
    "print(sample_set1 | sample_set2)\n",
    "print(sample_set1 & sample_set2)\n",
    "print(sample_set1 - sample_set2)\n",
    "print(sample_set1 ^ sample_set2)\n",
    "\n",
    "print(sample_set3 <= sample_set1)"
   ]
  },
  {
   "cell_type": "markdown",
   "id": "1e2a6e11-ab09-47dc-8c15-f896812a6d49",
   "metadata": {},
   "source": [
    "## 4.3 変更・メソッド"
   ]
  },
  {
   "cell_type": "code",
   "execution_count": 26,
   "id": "584d3142-1ed5-40bf-8282-d7667ba2c136",
   "metadata": {},
   "outputs": [
    {
     "name": "stdout",
     "output_type": "stream",
     "text": [
      "{1, 2, 3, 'a', 10}\n",
      "{1, 2, 3, 'a'}\n"
     ]
    }
   ],
   "source": [
    "sample_set1.add(10)\n",
    "print(sample_set1)\n",
    "\n",
    "sample_set1.remove(10)\n",
    "print(sample_set1)"
   ]
  },
  {
   "cell_type": "code",
   "execution_count": 27,
   "id": "c29ba568-e568-4a56-8731-493ae42159d9",
   "metadata": {},
   "outputs": [
    {
     "name": "stdout",
     "output_type": "stream",
     "text": [
      "{1, 2, 3, 'a', 4}\n",
      "{1, 3}\n",
      "{2, 'a'}\n",
      "{2, 4, 'a'}\n"
     ]
    }
   ],
   "source": [
    "print(sample_set1.union(sample_set2))\n",
    "print(sample_set1.intersection(sample_set2))\n",
    "print(sample_set1.difference(sample_set2))\n",
    "print(sample_set1.symmetric_difference(sample_set2))"
   ]
  },
  {
   "cell_type": "markdown",
   "id": "17e74827-8bc6-49d3-992a-0bc66fb61f17",
   "metadata": {},
   "source": [
    "## 4.4 型の変換"
   ]
  },
  {
   "cell_type": "code",
   "execution_count": 28,
   "id": "9a67d32f-509d-4003-9eda-1041452754fb",
   "metadata": {},
   "outputs": [
    {
     "name": "stdout",
     "output_type": "stream",
     "text": [
      "False True\n",
      "<class 'dict'>\n",
      "{1, 2}\n",
      "[1, 2]\n",
      "(1, 2)\n"
     ]
    }
   ],
   "source": [
    "sample_set = {1, 2, 2}\n",
    "print(bool({}), bool(sample_set))\n",
    "print(type({}))\n",
    "print(str(sample_set))\n",
    "print(list(sample_set))\n",
    "print(tuple(sample_set))"
   ]
  },
  {
   "cell_type": "code",
   "execution_count": 29,
   "id": "46e46c49-8ec4-4434-a435-57e27588e5ef",
   "metadata": {},
   "outputs": [
    {
     "name": "stdout",
     "output_type": "stream",
     "text": [
      "{'o', 'l', 'H', 'e'}\n",
      "{1, 2}\n",
      "{1, 2}\n",
      "{'b', 'a'}\n"
     ]
    }
   ],
   "source": [
    "print(set(\"Hello\"))\n",
    "print(set([1, 2, 2]))\n",
    "print(set((1, 2, 2)))\n",
    "print(set({\"a\": 1, \"b\": 2}))"
   ]
  }
 ],
 "metadata": {
  "kernelspec": {
   "display_name": "Python 3 (ipykernel)",
   "language": "python",
   "name": "python3"
  },
  "language_info": {
   "codemirror_mode": {
    "name": "ipython",
    "version": 3
   },
   "file_extension": ".py",
   "mimetype": "text/x-python",
   "name": "python",
   "nbconvert_exporter": "python",
   "pygments_lexer": "ipython3",
   "version": "3.9.12"
  }
 },
 "nbformat": 4,
 "nbformat_minor": 5
}
