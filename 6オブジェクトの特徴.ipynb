{
 "cells": [
  {
   "cell_type": "markdown",
   "id": "10c3a3f5-e299-43fd-8cdb-5465164bb60e",
   "metadata": {},
   "source": [
    "# 1 ミュータブル"
   ]
  },
  {
   "cell_type": "code",
   "execution_count": 1,
   "id": "c3250716-fb9f-49fe-89c1-a52fa783c4be",
   "metadata": {},
   "outputs": [
    {
     "name": "stdout",
     "output_type": "stream",
     "text": [
      "listの変更\n",
      "[1, 2, 3, 4]\n",
      "[1, 10, 3, 4]\n",
      "\n",
      "dictの変更(追加)\n",
      "{'a': 1, 'b': 2, 'c': 3}\n",
      "{'a': 1, 'b': 2, 'c': 3, 'd': 10}\n",
      "\n",
      "setの変更(追加)\n",
      "{1, 2, 3, 4}\n",
      "{1, 2, 3, 4, 10}\n"
     ]
    }
   ],
   "source": [
    "sample_str = \"Hello, World\"\n",
    "sample_list = [1, 2, 3, 4]\n",
    "sample_tuple = (1, 2, 3, 4)\n",
    "sample_dict = {\"a\": 1, \"b\": 2, \"c\": 3}\n",
    "sample_set = {1, 2, 3, 4}\n",
    "\n",
    "print(\"listの変更\")\n",
    "print(sample_list)\n",
    "sample_list[1] = 10\n",
    "print(sample_list)\n",
    "\n",
    "print(\"\\ndictの変更(追加)\")\n",
    "print(sample_dict)\n",
    "sample_dict[\"d\"] = 10\n",
    "print(sample_dict)\n",
    "\n",
    "print(\"\\nsetの変更(追加)\")\n",
    "print(sample_set)\n",
    "sample_set.add(10)\n",
    "print(sample_set)"
   ]
  },
  {
   "cell_type": "code",
   "execution_count": 2,
   "id": "fe387f09-6528-4f0f-91fe-aeaa7529f535",
   "metadata": {},
   "outputs": [
    {
     "ename": "TypeError",
     "evalue": "'str' object does not support item assignment",
     "output_type": "error",
     "traceback": [
      "\u001b[0;31m---------------------------------------------------------------------------\u001b[0m",
      "\u001b[0;31mTypeError\u001b[0m                                 Traceback (most recent call last)",
      "Input \u001b[0;32mIn [2]\u001b[0m, in \u001b[0;36m<cell line: 1>\u001b[0;34m()\u001b[0m\n\u001b[0;32m----> 1\u001b[0m sample_str[\u001b[38;5;241m2\u001b[39m] \u001b[38;5;241m=\u001b[39m \u001b[38;5;241m1\u001b[39m\n",
      "\u001b[0;31mTypeError\u001b[0m: 'str' object does not support item assignment"
     ]
    }
   ],
   "source": [
    "sample_str[2] = 1"
   ]
  },
  {
   "cell_type": "code",
   "execution_count": 3,
   "id": "49c21a4f-4c7b-42e3-81ca-1cf2ae2e8143",
   "metadata": {},
   "outputs": [
    {
     "ename": "TypeError",
     "evalue": "'tuple' object does not support item assignment",
     "output_type": "error",
     "traceback": [
      "\u001b[0;31m---------------------------------------------------------------------------\u001b[0m",
      "\u001b[0;31mTypeError\u001b[0m                                 Traceback (most recent call last)",
      "Input \u001b[0;32mIn [3]\u001b[0m, in \u001b[0;36m<cell line: 1>\u001b[0;34m()\u001b[0m\n\u001b[0;32m----> 1\u001b[0m sample_tuple[\u001b[38;5;241m2\u001b[39m] \u001b[38;5;241m=\u001b[39m \u001b[38;5;241m1\u001b[39m\n",
      "\u001b[0;31mTypeError\u001b[0m: 'tuple' object does not support item assignment"
     ]
    }
   ],
   "source": [
    "sample_tuple[2] = 1"
   ]
  },
  {
   "cell_type": "markdown",
   "id": "f7613430-05be-4300-b77f-bef940140a29",
   "metadata": {},
   "source": [
    "# 2 シーケンス"
   ]
  },
  {
   "cell_type": "code",
   "execution_count": 4,
   "id": "66524f91-59ba-4d29-b81e-744296908f1a",
   "metadata": {},
   "outputs": [
    {
     "name": "stdout",
     "output_type": "stream",
     "text": [
      "strの参照: e\n",
      "listの参照: 2\n",
      "tupleの参照: 2\n"
     ]
    }
   ],
   "source": [
    "sample_str = \"Hello, World\"\n",
    "sample_list = [1, 2, 3, 4]\n",
    "sample_tuple = (1, 2, 3, 4)\n",
    "sample_dict = {\"a\": 1, \"b\": 2, \"c\": 3, 4: 4}\n",
    "sample_set = {1, 2, 3, 4}\n",
    "\n",
    "print(\"strの参照:\", sample_str[1])\n",
    "print(\"listの参照:\", sample_list[1])\n",
    "print(\"tupleの参照:\", sample_tuple[1])"
   ]
  },
  {
   "cell_type": "code",
   "execution_count": 5,
   "id": "122c675e-7fda-4e52-94aa-33843b0f6cc3",
   "metadata": {},
   "outputs": [
    {
     "name": "stdout",
     "output_type": "stream",
     "text": [
      "dictの参照: 4\n"
     ]
    },
    {
     "ename": "KeyError",
     "evalue": "1",
     "output_type": "error",
     "traceback": [
      "\u001b[0;31m---------------------------------------------------------------------------\u001b[0m",
      "\u001b[0;31mKeyError\u001b[0m                                  Traceback (most recent call last)",
      "Input \u001b[0;32mIn [5]\u001b[0m, in \u001b[0;36m<cell line: 2>\u001b[0;34m()\u001b[0m\n\u001b[1;32m      1\u001b[0m \u001b[38;5;28mprint\u001b[39m(\u001b[38;5;124m\"\u001b[39m\u001b[38;5;124mdictの参照:\u001b[39m\u001b[38;5;124m\"\u001b[39m, sample_dict[\u001b[38;5;241m4\u001b[39m])\n\u001b[0;32m----> 2\u001b[0m \u001b[38;5;28mprint\u001b[39m(\u001b[38;5;124m\"\u001b[39m\u001b[38;5;124mdictの参照:\u001b[39m\u001b[38;5;124m\"\u001b[39m, \u001b[43msample_dict\u001b[49m\u001b[43m[\u001b[49m\u001b[38;5;241;43m1\u001b[39;49m\u001b[43m]\u001b[49m)\n",
      "\u001b[0;31mKeyError\u001b[0m: 1"
     ]
    }
   ],
   "source": [
    "print(\"dictの参照:\", sample_dict[4])\n",
    "print(\"dictの参照:\", sample_dict[1])"
   ]
  },
  {
   "cell_type": "code",
   "execution_count": 6,
   "id": "734df8da-a169-4288-bdb9-f451decd5958",
   "metadata": {},
   "outputs": [
    {
     "ename": "TypeError",
     "evalue": "'set' object is not subscriptable",
     "output_type": "error",
     "traceback": [
      "\u001b[0;31m---------------------------------------------------------------------------\u001b[0m",
      "\u001b[0;31mTypeError\u001b[0m                                 Traceback (most recent call last)",
      "Input \u001b[0;32mIn [6]\u001b[0m, in \u001b[0;36m<cell line: 1>\u001b[0;34m()\u001b[0m\n\u001b[0;32m----> 1\u001b[0m \u001b[38;5;28mprint\u001b[39m(\u001b[38;5;124m\"\u001b[39m\u001b[38;5;124msetの参照:\u001b[39m\u001b[38;5;124m\"\u001b[39m, \u001b[43msample_set\u001b[49m\u001b[43m[\u001b[49m\u001b[38;5;241;43m1\u001b[39;49m\u001b[43m]\u001b[49m)\n",
      "\u001b[0;31mTypeError\u001b[0m: 'set' object is not subscriptable"
     ]
    }
   ],
   "source": [
    "print(\"setの参照:\", sample_set[1])"
   ]
  },
  {
   "cell_type": "markdown",
   "id": "287706dd-f340-40a0-adf5-78f89d2e8ae2",
   "metadata": {},
   "source": [
    "# 3 イテラブル"
   ]
  },
  {
   "cell_type": "code",
   "execution_count": 7,
   "id": "9f42e340-85bc-403c-9443-9df8b319c0d8",
   "metadata": {},
   "outputs": [],
   "source": [
    "sample_str = \"Hello, World\"\n",
    "sample_list = [1, 2, 3, 4]\n",
    "sample_tuple = (1, 2, 3, 4)\n",
    "sample_dict = {\"a\": 1, \"b\": 2, \"c\": 3, 4: 4}\n",
    "sample_set = {1, 2, 3, 4}"
   ]
  },
  {
   "cell_type": "code",
   "execution_count": 8,
   "id": "048b8233-a369-431c-9853-1983a2b52f7a",
   "metadata": {},
   "outputs": [
    {
     "name": "stdout",
     "output_type": "stream",
     "text": [
      "H\n",
      "e\n",
      "l\n",
      "l\n",
      "o\n",
      ",\n",
      " \n",
      "W\n",
      "o\n",
      "r\n",
      "l\n",
      "d\n"
     ]
    }
   ],
   "source": [
    "for s in sample_str:\n",
    "    print(s)"
   ]
  },
  {
   "cell_type": "code",
   "execution_count": 9,
   "id": "5598ea99-df9b-476d-bf61-a066f8d09034",
   "metadata": {},
   "outputs": [
    {
     "name": "stdout",
     "output_type": "stream",
     "text": [
      "1\n",
      "2\n",
      "3\n",
      "4\n"
     ]
    }
   ],
   "source": [
    "for i in sample_list:\n",
    "    print(i)"
   ]
  },
  {
   "cell_type": "code",
   "execution_count": 10,
   "id": "2e9a541e-f4de-4492-80e1-95223103cf1c",
   "metadata": {},
   "outputs": [
    {
     "name": "stdout",
     "output_type": "stream",
     "text": [
      "1\n",
      "2\n",
      "3\n",
      "4\n"
     ]
    }
   ],
   "source": [
    "for i in sample_tuple:\n",
    "    print(i)"
   ]
  },
  {
   "cell_type": "code",
   "execution_count": 11,
   "id": "6f73bcbd-dc27-4eef-b1e9-382c1c59cdac",
   "metadata": {},
   "outputs": [
    {
     "name": "stdout",
     "output_type": "stream",
     "text": [
      "a\n",
      "b\n",
      "c\n",
      "4\n"
     ]
    }
   ],
   "source": [
    "for key in sample_dict:\n",
    "    print(key)"
   ]
  },
  {
   "cell_type": "code",
   "execution_count": 12,
   "id": "861820c2-67dd-4ad6-89eb-0ee641d33bb3",
   "metadata": {},
   "outputs": [
    {
     "name": "stdout",
     "output_type": "stream",
     "text": [
      "1\n",
      "2\n",
      "3\n",
      "4\n"
     ]
    }
   ],
   "source": [
    "for value in sample_dict.values():\n",
    "    print(value)"
   ]
  },
  {
   "cell_type": "code",
   "execution_count": 13,
   "id": "4463ea27-c34c-4109-8f78-9525021b95c6",
   "metadata": {},
   "outputs": [
    {
     "name": "stdout",
     "output_type": "stream",
     "text": [
      "1\n",
      "2\n",
      "3\n",
      "4\n"
     ]
    }
   ],
   "source": [
    "for i in sample_set:\n",
    "    print(i)"
   ]
  },
  {
   "cell_type": "code",
   "execution_count": 14,
   "id": "f91ae05f-d0da-473e-8aad-0ddbd659a2f8",
   "metadata": {},
   "outputs": [
    {
     "ename": "TypeError",
     "evalue": "'int' object is not iterable",
     "output_type": "error",
     "traceback": [
      "\u001b[0;31m---------------------------------------------------------------------------\u001b[0m",
      "\u001b[0;31mTypeError\u001b[0m                                 Traceback (most recent call last)",
      "Input \u001b[0;32mIn [14]\u001b[0m, in \u001b[0;36m<cell line: 1>\u001b[0;34m()\u001b[0m\n\u001b[0;32m----> 1\u001b[0m \u001b[38;5;28;01mfor\u001b[39;00m i \u001b[38;5;129;01min\u001b[39;00m \u001b[38;5;241m3\u001b[39m:\n\u001b[1;32m      2\u001b[0m     \u001b[38;5;28mprint\u001b[39m(i)\n",
      "\u001b[0;31mTypeError\u001b[0m: 'int' object is not iterable"
     ]
    }
   ],
   "source": [
    "for i in 3:\n",
    "    print(i)"
   ]
  },
  {
   "cell_type": "markdown",
   "id": "50ed02d7-ea3e-4498-9b54-1db2a224e561",
   "metadata": {},
   "source": [
    "# 4 コンテナ"
   ]
  },
  {
   "cell_type": "code",
   "execution_count": 15,
   "id": "dde4638d-5d99-4419-8481-ed7f1dc04a3b",
   "metadata": {},
   "outputs": [
    {
     "name": "stdout",
     "output_type": "stream",
     "text": [
      "str True\n",
      "list True\n",
      "tuple True\n",
      "dict(key) True\n",
      "set True\n"
     ]
    }
   ],
   "source": [
    "sample_str = \"Hello, World\"\n",
    "sample_list = [1, 2, 3, 4]\n",
    "sample_tuple = (1, 2, 3, 4)\n",
    "sample_dict = {\"a\": 1, \"b\": 2, \"c\": 3, 4: 4}\n",
    "sample_set = {1, 2, 3, 4}\n",
    "\n",
    "print(\"str\", \"H\" in sample_str)\n",
    "print(\"list\", 1 in sample_list)\n",
    "print(\"tuple\", 1 in sample_tuple)\n",
    "print(\"dict(key)\", \"a\" in sample_dict)\n",
    "print(\"set\", 1 in sample_set)"
   ]
  },
  {
   "cell_type": "code",
   "execution_count": 16,
   "id": "a11ea507-bd29-4fdc-8317-cf328669c1fc",
   "metadata": {},
   "outputs": [
    {
     "ename": "TypeError",
     "evalue": "argument of type 'int' is not iterable",
     "output_type": "error",
     "traceback": [
      "\u001b[0;31m---------------------------------------------------------------------------\u001b[0m",
      "\u001b[0;31mTypeError\u001b[0m                                 Traceback (most recent call last)",
      "Input \u001b[0;32mIn [16]\u001b[0m, in \u001b[0;36m<cell line: 1>\u001b[0;34m()\u001b[0m\n\u001b[0;32m----> 1\u001b[0m \u001b[38;5;241;43m3\u001b[39;49m\u001b[43m \u001b[49m\u001b[38;5;129;43;01min\u001b[39;49;00m\u001b[43m \u001b[49m\u001b[38;5;241;43m3\u001b[39;49m\n",
      "\u001b[0;31mTypeError\u001b[0m: argument of type 'int' is not iterable"
     ]
    }
   ],
   "source": [
    "3 in 3"
   ]
  },
  {
   "cell_type": "code",
   "execution_count": null,
   "id": "c98e2c7a-ae09-4866-a23a-38264aeeb277",
   "metadata": {},
   "outputs": [],
   "source": []
  }
 ],
 "metadata": {
  "kernelspec": {
   "display_name": "Python 3 (ipykernel)",
   "language": "python",
   "name": "python3"
  },
  "language_info": {
   "codemirror_mode": {
    "name": "ipython",
    "version": 3
   },
   "file_extension": ".py",
   "mimetype": "text/x-python",
   "name": "python",
   "nbconvert_exporter": "python",
   "pygments_lexer": "ipython3",
   "version": "3.9.12"
  }
 },
 "nbformat": 4,
 "nbformat_minor": 5
}
