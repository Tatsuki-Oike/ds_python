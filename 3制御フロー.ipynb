{
 "cells": [
  {
   "cell_type": "markdown",
   "id": "bb37c334-6616-4265-bce4-749a4dad0193",
   "metadata": {},
   "source": [
    "|文|内容|\n",
    "|-|-|\n",
    "|if|条件分岐|\n",
    "|for|指定したオブジェクトの内容分繰り返す|\n",
    "|break|大枠の実行文から抜ける|\n",
    "|continue|大枠の繰り返し分で、continue以降を一度とばす|\n",
    "|while|条件がTrueのかぎり繰り返す|"
   ]
  },
  {
   "cell_type": "markdown",
   "id": "f446480d-5939-4f6b-96f0-eefe3e3b8770",
   "metadata": {},
   "source": [
    "# 1 if文"
   ]
  },
  {
   "cell_type": "markdown",
   "id": "32417ce3-bfde-4de9-afee-3bef9215f2bd",
   "metadata": {},
   "source": [
    "## 1.1 bool型"
   ]
  },
  {
   "cell_type": "code",
   "execution_count": 1,
   "id": "70fc8894-93be-45b4-97db-58cae4801ac7",
   "metadata": {},
   "outputs": [
    {
     "name": "stdout",
     "output_type": "stream",
     "text": [
      "True\n",
      "True\n",
      "True\n",
      "True\n",
      "True\n",
      "True\n",
      "True\n",
      "True\n",
      "True\n",
      "True\n",
      "True\n",
      "True\n",
      "True\n"
     ]
    }
   ],
   "source": [
    "print(True)\n",
    "print(True and True)\n",
    "print(True or False)\n",
    "\n",
    "print(1 == 1)\n",
    "print(\"a\" == \"a\")\n",
    "print([1, 2] != [2, 2])\n",
    "print(1 in [1, 2])\n",
    "\n",
    "print(bool(3))\n",
    "print(bool(\"a\"))\n",
    "print(bool([1, 2]))\n",
    "print(bool((1, 2)))\n",
    "print(bool({\"a\": 1}))\n",
    "print(bool({1, 2}))"
   ]
  },
  {
   "cell_type": "code",
   "execution_count": 2,
   "id": "0a80a29c-88a1-4e46-8a0d-eebbf4360810",
   "metadata": {},
   "outputs": [
    {
     "name": "stdout",
     "output_type": "stream",
     "text": [
      "False\n",
      "False\n",
      "False\n",
      "False\n",
      "False\n",
      "False\n",
      "False\n",
      "False\n",
      "False\n",
      "False\n",
      "False\n",
      "False\n",
      "False\n"
     ]
    }
   ],
   "source": [
    "print(False)\n",
    "print(True and False)\n",
    "print(False or False)\n",
    "\n",
    "print(1 < 1)\n",
    "print(\"a\" != \"a\")\n",
    "print([1, 2] == [2, 2])\n",
    "print(1 not in [1, 2])\n",
    "\n",
    "print(bool(0))\n",
    "print(bool(\"\"))\n",
    "print(bool([]))\n",
    "print(bool(()))\n",
    "print(bool({}))\n",
    "\n",
    "print(bool(None))"
   ]
  },
  {
   "cell_type": "markdown",
   "id": "c3a0a944-57fc-431c-bf53-8392ebcecad3",
   "metadata": {},
   "source": [
    "## 1.2 if文"
   ]
  },
  {
   "cell_type": "code",
   "execution_count": 3,
   "id": "6fab9c63-dbec-4db9-9436-b31587081e3e",
   "metadata": {},
   "outputs": [
    {
     "name": "stdout",
     "output_type": "stream",
     "text": [
      "Trueの場合\n"
     ]
    }
   ],
   "source": [
    "if True:\n",
    "    print(\"Trueの場合\")\n",
    "\n",
    "if False:\n",
    "    print(\"Falseの場合\")"
   ]
  },
  {
   "cell_type": "code",
   "execution_count": 4,
   "id": "eebc848a-ecab-4f6e-9cd2-ba4d01ba7295",
   "metadata": {},
   "outputs": [
    {
     "name": "stdout",
     "output_type": "stream",
     "text": [
      "Falseの場合\n"
     ]
    }
   ],
   "source": [
    "sample_value = 3\n",
    "\n",
    "if sample_value < 0:\n",
    "    print(\"Trueの場合\")\n",
    "else:\n",
    "    print(\"Falseの場合\")"
   ]
  },
  {
   "cell_type": "code",
   "execution_count": 5,
   "id": "a800824c-2346-4464-a6d6-aea341c388ff",
   "metadata": {},
   "outputs": [
    {
     "name": "stdout",
     "output_type": "stream",
     "text": [
      "1 <= sample_valueの場合 < 2\n"
     ]
    }
   ],
   "source": [
    "sample_value = 1.5\n",
    "\n",
    "if sample_value < 0:\n",
    "    print(\"マイナスの場合\")\n",
    "elif sample_value < 1:\n",
    "    print(\"0 <= sample_valueの場合 < 1\")\n",
    "elif sample_value < 2:\n",
    "    print(\"1 <= sample_valueの場合 < 2\")\n",
    "else:\n",
    "    print(\"2 <= sample_valueの場合\")"
   ]
  },
  {
   "cell_type": "markdown",
   "id": "9a16c722-4ba4-4de1-9dbe-1f1b774397c8",
   "metadata": {},
   "source": [
    "# 2 for文"
   ]
  },
  {
   "cell_type": "markdown",
   "id": "009d75f6-7192-4195-ab8d-cdc66c0af602",
   "metadata": {},
   "source": [
    "## 2.1 基本的なfor文"
   ]
  },
  {
   "cell_type": "code",
   "execution_count": 6,
   "id": "af64b099-9d9c-43ec-b44b-2b015d39f8a8",
   "metadata": {},
   "outputs": [],
   "source": [
    "sample_text = \"Hello\"\n",
    "sample_list = [1, 2, 3, \"a\", \"b\"]"
   ]
  },
  {
   "cell_type": "code",
   "execution_count": 7,
   "id": "6d75a752-ec62-40d0-9c14-8724801492b9",
   "metadata": {},
   "outputs": [
    {
     "name": "stdout",
     "output_type": "stream",
     "text": [
      "H\n",
      "e\n",
      "l\n",
      "l\n",
      "o\n"
     ]
    }
   ],
   "source": [
    "for i in sample_text:\n",
    "    print(i)"
   ]
  },
  {
   "cell_type": "code",
   "execution_count": 8,
   "id": "911ae7d5-49e2-4495-b2f2-8cec0a8d9690",
   "metadata": {},
   "outputs": [
    {
     "name": "stdout",
     "output_type": "stream",
     "text": [
      "1\n",
      "2\n",
      "3\n",
      "a\n",
      "b\n"
     ]
    }
   ],
   "source": [
    "for i in sample_list:\n",
    "    print(i)"
   ]
  },
  {
   "cell_type": "code",
   "execution_count": 9,
   "id": "fcd6b43d-e055-4135-ac1e-d60e4544fb54",
   "metadata": {},
   "outputs": [
    {
     "name": "stdout",
     "output_type": "stream",
     "text": [
      "0\n",
      "1\n",
      "2\n",
      "3\n",
      "4\n"
     ]
    }
   ],
   "source": [
    "for i in range(5):\n",
    "    print(i)"
   ]
  },
  {
   "cell_type": "code",
   "execution_count": 10,
   "id": "f3367c2a-152b-493c-9b0f-4126638688dd",
   "metadata": {},
   "outputs": [
    {
     "name": "stdout",
     "output_type": "stream",
     "text": [
      "3\n",
      "4\n",
      "5\n",
      "6\n",
      "7\n",
      "8\n",
      "9\n"
     ]
    }
   ],
   "source": [
    "for i in range(3, 10):\n",
    "    print(i)"
   ]
  },
  {
   "cell_type": "code",
   "execution_count": 11,
   "id": "15d6cb30-fe42-4ad6-9ff0-4b1293682f1e",
   "metadata": {},
   "outputs": [
    {
     "name": "stdout",
     "output_type": "stream",
     "text": [
      "3\n",
      "5\n",
      "7\n",
      "9\n"
     ]
    }
   ],
   "source": [
    "for i in range(3, 10, 2):\n",
    "    print(i)"
   ]
  },
  {
   "cell_type": "markdown",
   "id": "660bed1b-5aa1-4fb4-b7f9-50fa85bbcf65",
   "metadata": {},
   "source": [
    "## 2.2 breakとcontibue"
   ]
  },
  {
   "cell_type": "code",
   "execution_count": 12,
   "id": "f25367da-c9aa-4279-aa49-baf46f6fff0c",
   "metadata": {},
   "outputs": [
    {
     "name": "stdout",
     "output_type": "stream",
     "text": [
      "0\n",
      "1\n",
      "2\n"
     ]
    }
   ],
   "source": [
    "for i in range(5):\n",
    "    if i == 3:\n",
    "        break\n",
    "    print(i)"
   ]
  },
  {
   "cell_type": "code",
   "execution_count": 13,
   "id": "0da1b907-072c-4f05-9d3e-28d4592ecb76",
   "metadata": {},
   "outputs": [
    {
     "name": "stdout",
     "output_type": "stream",
     "text": [
      "0\n",
      "1\n",
      "2\n",
      "4\n"
     ]
    }
   ],
   "source": [
    "for i in range(5):\n",
    "    if i == 3:\n",
    "        continue\n",
    "    print(i)"
   ]
  },
  {
   "cell_type": "markdown",
   "id": "76571308-e5c5-46d7-8e7a-cafb9b5120aa",
   "metadata": {},
   "source": [
    "## 2.3 enumerateとzip"
   ]
  },
  {
   "cell_type": "code",
   "execution_count": 14,
   "id": "70b18a0f-69df-4e70-b045-8313d79bc5c2",
   "metadata": {},
   "outputs": [
    {
     "name": "stdout",
     "output_type": "stream",
     "text": [
      "0 1\n",
      "1 2\n",
      "2 3\n",
      "3 a\n",
      "4 b\n"
     ]
    }
   ],
   "source": [
    "for i, text in enumerate(sample_list):\n",
    "    print(i, text)"
   ]
  },
  {
   "cell_type": "code",
   "execution_count": 15,
   "id": "280be8d4-d1a6-4fe4-9919-d91b22254d5c",
   "metadata": {},
   "outputs": [
    {
     "name": "stdout",
     "output_type": "stream",
     "text": [
      "H 1\n",
      "e 2\n",
      "l 3\n",
      "l a\n",
      "o b\n"
     ]
    }
   ],
   "source": [
    "for text, value in zip(sample_text, sample_list):\n",
    "    print(text, value)"
   ]
  },
  {
   "cell_type": "markdown",
   "id": "ebfb3d65-97d1-4f2d-92fd-c94e09a8a1bc",
   "metadata": {},
   "source": [
    "# 3 While 文"
   ]
  },
  {
   "cell_type": "code",
   "execution_count": 16,
   "id": "0de6d77d-471b-4356-a4e2-dcfd89581f79",
   "metadata": {},
   "outputs": [
    {
     "name": "stdout",
     "output_type": "stream",
     "text": [
      "5\n",
      "4\n",
      "3\n",
      "2\n",
      "1\n"
     ]
    }
   ],
   "source": [
    "n = 5\n",
    "while n > 0:\n",
    "    print(n)\n",
    "    n -= 1"
   ]
  },
  {
   "cell_type": "code",
   "execution_count": 17,
   "id": "21176056-49ab-4c6e-808b-a01949877b45",
   "metadata": {},
   "outputs": [
    {
     "name": "stdout",
     "output_type": "stream",
     "text": [
      "5\n",
      "4\n",
      "3\n",
      "2\n",
      "1\n"
     ]
    }
   ],
   "source": [
    "n = 5\n",
    "while True:\n",
    "    print(n)\n",
    "    n -= 1\n",
    "    if n == 0:\n",
    "        break"
   ]
  },
  {
   "cell_type": "code",
   "execution_count": null,
   "id": "bfd64a03-da69-4430-aac9-e264be031d7c",
   "metadata": {},
   "outputs": [],
   "source": []
  }
 ],
 "metadata": {
  "kernelspec": {
   "display_name": "Python 3 (ipykernel)",
   "language": "python",
   "name": "python3"
  },
  "language_info": {
   "codemirror_mode": {
    "name": "ipython",
    "version": 3
   },
   "file_extension": ".py",
   "mimetype": "text/x-python",
   "name": "python",
   "nbconvert_exporter": "python",
   "pygments_lexer": "ipython3",
   "version": "3.9.12"
  }
 },
 "nbformat": 4,
 "nbformat_minor": 5
}
