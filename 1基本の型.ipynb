{
 "cells": [
  {
   "cell_type": "markdown",
   "id": "7c54e88a-54ed-4714-95b2-3cd7fcded3e8",
   "metadata": {
    "tags": []
   },
   "source": [
    "# 0 概要"
   ]
  },
  {
   "cell_type": "markdown",
   "id": "c97de10b-b332-419d-b40d-8b14f277cb3e",
   "metadata": {
    "tags": []
   },
   "source": [
    "## 0.1 型の種類"
   ]
  },
  {
   "cell_type": "markdown",
   "id": "acb66dae-d70b-40a9-a22f-e2760822c7f7",
   "metadata": {},
   "source": [
    "|Objectの型|説明|例|\n",
    "|---|---|---|\n",
    "|int|整数|-1, 1, 200|\n",
    "|float|少数|-3.2, 1.0, 40.3|\n",
    "|str|文字列|\"Hello\", \"2\", \"3.4\"|\n",
    "|bool|真偽値|True, False|\n",
    "|NoneType|存在しない値|None|"
   ]
  },
  {
   "cell_type": "markdown",
   "id": "6621bd2c-0ddf-49da-af0c-85eb15198820",
   "metadata": {
    "tags": []
   },
   "source": [
    "## 0.2 型の特徴"
   ]
  },
  {
   "cell_type": "markdown",
   "id": "f7c704e9-8ea1-4ec3-a916-0529d4635aca",
   "metadata": {},
   "source": [
    "* 型の作成方法\n",
    "* 型の演算\n",
    "* 型の変換\n",
    "* その他"
   ]
  },
  {
   "cell_type": "markdown",
   "id": "b64e4ddc-843d-4dbe-8b1f-01963117b15b",
   "metadata": {},
   "source": [
    "# 1 数値の型(int, float)"
   ]
  },
  {
   "cell_type": "markdown",
   "id": "87a5ebe5-7919-4fa1-a61e-4359dd9550dc",
   "metadata": {
    "tags": []
   },
   "source": [
    "## 1.1 intとfloat型の作成"
   ]
  },
  {
   "cell_type": "code",
   "execution_count": 1,
   "id": "dd528a37-8a9f-40bf-9264-2b4f9812a36e",
   "metadata": {},
   "outputs": [],
   "source": [
    "a = 3\n",
    "b = 1.6"
   ]
  },
  {
   "cell_type": "code",
   "execution_count": 2,
   "id": "0704eaab-3918-49e6-9c99-9399240e2b1c",
   "metadata": {},
   "outputs": [
    {
     "name": "stdout",
     "output_type": "stream",
     "text": [
      "3 1.6\n"
     ]
    }
   ],
   "source": [
    "print(a, b)"
   ]
  },
  {
   "cell_type": "code",
   "execution_count": 3,
   "id": "209e850d-ae79-432c-bae1-e58fdad4f66d",
   "metadata": {},
   "outputs": [
    {
     "name": "stdout",
     "output_type": "stream",
     "text": [
      "<class 'int'> <class 'float'>\n"
     ]
    }
   ],
   "source": [
    "print(type(a), type(b))"
   ]
  },
  {
   "cell_type": "markdown",
   "id": "31c88cba-5da8-4119-bfab-95a9cb84d6c2",
   "metadata": {},
   "source": [
    "## 1.2 型の演算"
   ]
  },
  {
   "cell_type": "code",
   "execution_count": 4,
   "id": "9abba19a-a1c0-45dd-811a-a1e88d70f893",
   "metadata": {},
   "outputs": [
    {
     "name": "stdout",
     "output_type": "stream",
     "text": [
      "4.6\n",
      "1.4\n",
      "4.800000000000001\n",
      "1.875\n",
      "1.0\n",
      "1.4\n"
     ]
    }
   ],
   "source": [
    "print(a + b)\n",
    "print(a - b)\n",
    "print(a * b)\n",
    "print(a / b)\n",
    "\n",
    "print(a // b)\n",
    "print(a % b)"
   ]
  },
  {
   "cell_type": "markdown",
   "id": "aaa96f94-d459-4067-a42e-41c99bd725ee",
   "metadata": {},
   "source": [
    "## 1.3 型の変換"
   ]
  },
  {
   "cell_type": "code",
   "execution_count": 5,
   "id": "d349d44e-3b98-46af-9db9-9d86cb414bfd",
   "metadata": {},
   "outputs": [
    {
     "name": "stdout",
     "output_type": "stream",
     "text": [
      "3 3.0\n",
      "1.6 1\n"
     ]
    }
   ],
   "source": [
    "print(a, float(a))\n",
    "print(b, int(b))"
   ]
  },
  {
   "cell_type": "markdown",
   "id": "7ee4549d-ad76-4123-81d1-d07201964a66",
   "metadata": {},
   "source": [
    "# 2 文字の型(str)"
   ]
  },
  {
   "cell_type": "markdown",
   "id": "c76784a0-fd45-441a-8304-4fb61124e8b3",
   "metadata": {},
   "source": [
    "## 2.1 str型の作成"
   ]
  },
  {
   "cell_type": "code",
   "execution_count": 6,
   "id": "98d12e28-6303-47f0-85de-a6b6affb2077",
   "metadata": {},
   "outputs": [
    {
     "name": "stdout",
     "output_type": "stream",
     "text": [
      "Hello World\n",
      "<class 'str'> <class 'str'>\n"
     ]
    }
   ],
   "source": [
    "sample_text1 = \"Hello\"\n",
    "sample_text2 = 'World'\n",
    "print(sample_text1, sample_text2)\n",
    "print(type(sample_text1), type(sample_text2))"
   ]
  },
  {
   "cell_type": "code",
   "execution_count": 7,
   "id": "32ce96a6-0ad3-442f-bbe7-ab9a717be61b",
   "metadata": {},
   "outputs": [
    {
     "name": "stdout",
     "output_type": "stream",
     "text": [
      "\n",
      "Sample\n",
      "Text\n",
      " \n",
      "Hello\n",
      "World\n",
      "\n",
      "<class 'str'> <class 'str'>\n"
     ]
    }
   ],
   "source": [
    "long_text1 = '''\n",
    "Sample\n",
    "Text\n",
    "'''\n",
    "long_text2 = \"\"\"\n",
    "Hello\n",
    "World\n",
    "\"\"\"\n",
    "print(long_text1, long_text2)\n",
    "print(type(long_text1), type(long_text2))"
   ]
  },
  {
   "cell_type": "markdown",
   "id": "94652706-188e-47d7-8733-0c68b9ed5565",
   "metadata": {},
   "source": [
    "## 2.2 str型の演算"
   ]
  },
  {
   "cell_type": "code",
   "execution_count": 8,
   "id": "c071332e-b12c-4898-a290-d160ceb60591",
   "metadata": {},
   "outputs": [
    {
     "name": "stdout",
     "output_type": "stream",
     "text": [
      "HelloWorld\n",
      "HelloHelloHelloHello\n"
     ]
    }
   ],
   "source": [
    "print(sample_text1 + sample_text2)\n",
    "print(sample_text1 * 4)"
   ]
  },
  {
   "cell_type": "markdown",
   "id": "6af1258b-ebc3-4da9-810f-1414ea0b375b",
   "metadata": {
    "tags": []
   },
   "source": [
    "## 2.3 型の変換"
   ]
  },
  {
   "cell_type": "code",
   "execution_count": 9,
   "id": "7d753a4b-a8aa-4145-b758-3629584922d7",
   "metadata": {},
   "outputs": [
    {
     "name": "stdout",
     "output_type": "stream",
     "text": [
      "3.14 <class 'str'>\n",
      "3.14 <class 'float'>\n",
      "3 <class 'int'>\n"
     ]
    }
   ],
   "source": [
    "sample_str = \"3.14\"\n",
    "print(sample_str, type(sample_str))\n",
    "\n",
    "str_to_float = float(sample_str)\n",
    "print(str_to_float, type(str_to_float))\n",
    "\n",
    "float_to_int = int(str_to_float)\n",
    "print(float_to_int, type(float_to_int))"
   ]
  },
  {
   "cell_type": "code",
   "execution_count": 10,
   "id": "e8c736c0-0e38-4d4d-b837-8fb1762c6a9e",
   "metadata": {},
   "outputs": [
    {
     "name": "stdout",
     "output_type": "stream",
     "text": [
      "3 <class 'str'>\n",
      "1.6 <class 'str'>\n"
     ]
    }
   ],
   "source": [
    "print(str(a), type(str(a)))\n",
    "print(str(b), type(str(b)))"
   ]
  },
  {
   "cell_type": "markdown",
   "id": "432dce20-e7f4-47cd-8f15-d472b6bbbe32",
   "metadata": {},
   "source": [
    "## 2.4 str型のメソッド"
   ]
  },
  {
   "cell_type": "code",
   "execution_count": 11,
   "id": "0491f7af-59e5-419a-8d22-c2df77d076e3",
   "metadata": {},
   "outputs": [
    {
     "name": "stdout",
     "output_type": "stream",
     "text": [
      "HELLO, WORLD!\n",
      "hello, world!\n",
      "Good evening, World!\n"
     ]
    }
   ],
   "source": [
    "sample_text3 = \"Hello, World!\"\n",
    "print(sample_text3.upper())\n",
    "print(sample_text3.lower())\n",
    "print(sample_text3.replace(\"Hello\", \"Good evening\"))"
   ]
  },
  {
   "cell_type": "markdown",
   "id": "b8d8b75d-f8d9-4d1d-8e68-da5926ff86d0",
   "metadata": {},
   "source": [
    "## 2.5 indexによる参照"
   ]
  },
  {
   "cell_type": "code",
   "execution_count": 12,
   "id": "0a8eeee2-2714-4ecf-a11f-09aed683687a",
   "metadata": {},
   "outputs": [
    {
     "name": "stdout",
     "output_type": "stream",
     "text": [
      "Hello, World!\n",
      ",\n",
      "Hello\n",
      ", World!\n",
      ", W\n",
      "Hlo ol!\n",
      "!\n",
      "ld\n"
     ]
    }
   ],
   "source": [
    "print(sample_text3)\n",
    "print(sample_text3[5])\n",
    "print(sample_text3[:5])\n",
    "print(sample_text3[5:])\n",
    "print(sample_text3[5:8])\n",
    "print(sample_text3[::2])\n",
    "print(sample_text3[-1])\n",
    "print(sample_text3[-3:-1])"
   ]
  },
  {
   "cell_type": "markdown",
   "id": "0b9168c4-7634-4e81-87fc-abc2b48ad50a",
   "metadata": {},
   "source": [
    "## 2.6 特殊な文字列"
   ]
  },
  {
   "cell_type": "code",
   "execution_count": 13,
   "id": "c8cf4fd7-6a0c-459c-810a-204e942c2db2",
   "metadata": {},
   "outputs": [
    {
     "name": "stdout",
     "output_type": "stream",
     "text": [
      "Hello, World\n",
      "Let's enjoy\n",
      "I say \"Hello World\"\n",
      "Hello, WorldHello, World\n",
      "Hello, \n",
      " World\n",
      "Hello, \t World\n",
      "Hello, \\ World\n",
      "cの値は1\n",
      "cの値は\\n{c}\n"
     ]
    }
   ],
   "source": [
    "print(\"Hello, World\")\n",
    "print(\"Let's enjoy\")\n",
    "print('I say \"Hello World\"')\n",
    "\n",
    "print(\"Hello, World\", end = \"\")\n",
    "print(\"Hello, World\")\n",
    "\n",
    "print(\"Hello, \\n World\")\n",
    "print(\"Hello, \\t World\")\n",
    "print(\"Hello, \\\\ World\")\n",
    "\n",
    "c = 1\n",
    "print(f\"cの値は{c}\")\n",
    "print(r\"cの値は\\n{c}\")"
   ]
  },
  {
   "cell_type": "markdown",
   "id": "b5974292-663f-425c-ab75-7dd9df738869",
   "metadata": {},
   "source": [
    "# 3 bool型"
   ]
  },
  {
   "cell_type": "markdown",
   "id": "63010c93-7c53-48ee-a3c4-601a06ac309e",
   "metadata": {},
   "source": [
    "## 3.1 bool型の作成"
   ]
  },
  {
   "cell_type": "code",
   "execution_count": 14,
   "id": "968c4011-7f63-410d-baeb-26ae8f95ea93",
   "metadata": {},
   "outputs": [
    {
     "name": "stdout",
     "output_type": "stream",
     "text": [
      "True <class 'bool'>\n",
      "False <class 'bool'>\n"
     ]
    }
   ],
   "source": [
    "sample_True = True\n",
    "sample_False = False\n",
    "print(sample_True, type(sample_True))\n",
    "print(sample_False, type(sample_False))"
   ]
  },
  {
   "cell_type": "markdown",
   "id": "67b1b31f-f2dd-4a7b-9abf-cc2956c3d4b9",
   "metadata": {},
   "source": [
    "## 3.2 bool型の演算"
   ]
  },
  {
   "cell_type": "code",
   "execution_count": 15,
   "id": "7b9f60cb-e780-4abe-b377-087d41fba12a",
   "metadata": {},
   "outputs": [
    {
     "name": "stdout",
     "output_type": "stream",
     "text": [
      "2\n",
      "1\n",
      "0\n",
      "\n",
      "0\n",
      "1\n",
      "1.0\n"
     ]
    }
   ],
   "source": [
    "print(True + True)\n",
    "print(True + False)\n",
    "print(False + False)\n",
    "\n",
    "print()\n",
    "print(True - True)\n",
    "print(True * True)\n",
    "print(True / True)"
   ]
  },
  {
   "cell_type": "code",
   "execution_count": 16,
   "id": "ebf51041-64e5-41d2-957c-991f0f3a5d72",
   "metadata": {},
   "outputs": [
    {
     "name": "stdout",
     "output_type": "stream",
     "text": [
      "論理演算子\n",
      "True False False\n",
      "True True False\n",
      "False True\n",
      "\n",
      "比較演算子\n",
      "False\n",
      "True\n",
      "True False\n",
      "True False\n",
      "True\n",
      "False\n"
     ]
    }
   ],
   "source": [
    "print(\"論理演算子\")\n",
    "print(True and True, True and False, False and False)\n",
    "print(True or True, True or False, False or False)\n",
    "print(not True, not False)\n",
    "\n",
    "# 比較演算子\n",
    "print(\"\\n比較演算子\")\n",
    "print(3 == 4)\n",
    "print(3 != 4)\n",
    "print(3 < 4, 3 > 4)\n",
    "print(3 <= 4, 3 >= 4)\n",
    "print(\"llo\" in \"Hello World\")\n",
    "print(\"llo\" not in \"Hello World\")"
   ]
  },
  {
   "cell_type": "markdown",
   "id": "5b615cbd-05d6-4311-90f8-fad3ea90add3",
   "metadata": {},
   "source": [
    "## 3.3 型の変換"
   ]
  },
  {
   "cell_type": "code",
   "execution_count": 17,
   "id": "8805ff73-784b-4ed4-89f9-8e50932c3180",
   "metadata": {},
   "outputs": [
    {
     "name": "stdout",
     "output_type": "stream",
     "text": [
      "1 <class 'int'>\n",
      "0 <class 'int'>\n",
      "True <class 'str'>\n",
      "False <class 'str'>\n"
     ]
    }
   ],
   "source": [
    "print(int(True), type(int(True)))\n",
    "print(int(False), type(int(False)))\n",
    "print(str(True), type(str(True)))\n",
    "print(str(False), type(str(False)))"
   ]
  },
  {
   "cell_type": "code",
   "execution_count": 18,
   "id": "22a44113-3eb8-49e0-88ae-87e060434e67",
   "metadata": {},
   "outputs": [
    {
     "name": "stdout",
     "output_type": "stream",
     "text": [
      "False True\n",
      "False True\n",
      "False True\n",
      "False True\n",
      "False True\n",
      "False\n"
     ]
    }
   ],
   "source": [
    "print(bool(0), bool(10))\n",
    "print(bool(\"\"), bool(\"Hello\"))\n",
    "print(bool([]), bool([1,2]))\n",
    "print(bool(()), bool((1,2)))\n",
    "print(bool({}), bool({\"a\":1, \"b\":2}))\n",
    "print(bool(None))"
   ]
  },
  {
   "cell_type": "markdown",
   "id": "af38bac5-9c5d-4938-b70e-ad53d57e6f08",
   "metadata": {},
   "source": [
    "# 4 NoneType\n",
    "* 値が存在しないことを表現する値\n",
    "* NoneはNonetypeの唯一のオブジェクト\n",
    "* 関数の返り値がない場合"
   ]
  },
  {
   "cell_type": "markdown",
   "id": "9fe0ed56-df2d-4ccb-9df6-4f5ecca2eb1b",
   "metadata": {},
   "source": [
    "## 4.1 NoneTypeの作成"
   ]
  },
  {
   "cell_type": "code",
   "execution_count": 19,
   "id": "a7339f01-4724-47f3-8d2a-a5250f90f1a5",
   "metadata": {},
   "outputs": [
    {
     "name": "stdout",
     "output_type": "stream",
     "text": [
      "None <class 'NoneType'>\n"
     ]
    }
   ],
   "source": [
    "print(None, type(None))"
   ]
  },
  {
   "cell_type": "code",
   "execution_count": 20,
   "id": "f0f6528c-156e-4e6d-92f4-527ef763263f",
   "metadata": {},
   "outputs": [
    {
     "name": "stdout",
     "output_type": "stream",
     "text": [
      "Hello\n"
     ]
    },
    {
     "data": {
      "text/plain": [
       "NoneType"
      ]
     },
     "execution_count": 20,
     "metadata": {},
     "output_type": "execute_result"
    }
   ],
   "source": [
    "type(print(\"Hello\"))"
   ]
  },
  {
   "cell_type": "markdown",
   "id": "38c04851-5f18-4712-88b4-8b053d2f1a4b",
   "metadata": {},
   "source": [
    "## 4.2 型の変換"
   ]
  },
  {
   "cell_type": "code",
   "execution_count": 21,
   "id": "fefb32b8-c131-4b94-8d4c-5414b2015922",
   "metadata": {},
   "outputs": [
    {
     "name": "stdout",
     "output_type": "stream",
     "text": [
      "False\n",
      "None\n"
     ]
    }
   ],
   "source": [
    "print(bool(None))\n",
    "print(str(None))"
   ]
  }
 ],
 "metadata": {
  "kernelspec": {
   "display_name": "Python 3 (ipykernel)",
   "language": "python",
   "name": "python3"
  },
  "language_info": {
   "codemirror_mode": {
    "name": "ipython",
    "version": 3
   },
   "file_extension": ".py",
   "mimetype": "text/x-python",
   "name": "python",
   "nbconvert_exporter": "python",
   "pygments_lexer": "ipython3",
   "version": "3.9.13"
  }
 },
 "nbformat": 4,
 "nbformat_minor": 5
}
