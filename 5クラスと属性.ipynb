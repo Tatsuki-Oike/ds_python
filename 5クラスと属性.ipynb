{
 "cells": [
  {
   "cell_type": "markdown",
   "id": "681f0eaf-a637-487f-81ae-5493761e5b2c",
   "metadata": {},
   "source": [
    "# 1 クラスとインスタンス"
   ]
  },
  {
   "cell_type": "markdown",
   "id": "d64a6929-b739-4674-be69-50d06bd8b4f2",
   "metadata": {},
   "source": [
    "## 1.1 クラスとインスタンスの型"
   ]
  },
  {
   "cell_type": "code",
   "execution_count": 1,
   "id": "c3acd5a6-e323-4818-819d-3f54594057cd",
   "metadata": {},
   "outputs": [],
   "source": [
    "class SampleClass:\n",
    "    pass"
   ]
  },
  {
   "cell_type": "code",
   "execution_count": 2,
   "id": "68a5f1e0-2cb6-4f86-89f8-100e328fc4e1",
   "metadata": {},
   "outputs": [],
   "source": [
    "sample_instance = SampleClass()"
   ]
  },
  {
   "cell_type": "code",
   "execution_count": 3,
   "id": "d378e938-edd1-4006-8e2f-014e19932108",
   "metadata": {},
   "outputs": [
    {
     "name": "stdout",
     "output_type": "stream",
     "text": [
      "<class '__main__.SampleClass'>\n"
     ]
    }
   ],
   "source": [
    "print(type(sample_instance))"
   ]
  },
  {
   "cell_type": "code",
   "execution_count": 4,
   "id": "73a0015f-1337-4a51-9619-5d38c1d05be3",
   "metadata": {},
   "outputs": [
    {
     "name": "stdout",
     "output_type": "stream",
     "text": [
      "<class 'type'>\n",
      "<class 'type'>\n",
      "<class 'type'>\n"
     ]
    }
   ],
   "source": [
    "print(type(SampleClass))\n",
    "print(type(int))\n",
    "print(type(list))"
   ]
  },
  {
   "cell_type": "markdown",
   "id": "c73cbe21-5fb1-468b-b0cd-604e5b6a3cee",
   "metadata": {},
   "source": [
    "## 1.2 インスタンス変数と__init__メソッド"
   ]
  },
  {
   "cell_type": "code",
   "execution_count": 5,
   "id": "73541241-3b2a-4550-ac9a-03d9436a6dbf",
   "metadata": {},
   "outputs": [],
   "source": [
    "class User:\n",
    "    def __init__(self, username):\n",
    "        self.username = username\n",
    "        print(\"クラスの呼び出し\")"
   ]
  },
  {
   "cell_type": "code",
   "execution_count": 6,
   "id": "4e2b1f69-49da-4408-8440-f4cb1c4b9c10",
   "metadata": {},
   "outputs": [
    {
     "name": "stdout",
     "output_type": "stream",
     "text": [
      "クラスの呼び出し\n"
     ]
    }
   ],
   "source": [
    "user1 = User(\"Tatsuki\")"
   ]
  },
  {
   "cell_type": "code",
   "execution_count": 7,
   "id": "7c28793e-0662-48e9-a793-c06baa3d8468",
   "metadata": {},
   "outputs": [
    {
     "data": {
      "text/plain": [
       "'Tatsuki'"
      ]
     },
     "execution_count": 7,
     "metadata": {},
     "output_type": "execute_result"
    }
   ],
   "source": [
    "user1.username"
   ]
  },
  {
   "cell_type": "code",
   "execution_count": 8,
   "id": "37261f77-6b0c-4bb9-bf36-da8afd4f52b8",
   "metadata": {},
   "outputs": [
    {
     "name": "stdout",
     "output_type": "stream",
     "text": [
      "クラスの呼び出し\n"
     ]
    }
   ],
   "source": [
    "user2 = User(\"Akira\")"
   ]
  },
  {
   "cell_type": "code",
   "execution_count": 9,
   "id": "7bb14c4b-d11a-4d7c-a5d7-06dccca5fd4e",
   "metadata": {},
   "outputs": [
    {
     "data": {
      "text/plain": [
       "'Akira'"
      ]
     },
     "execution_count": 9,
     "metadata": {},
     "output_type": "execute_result"
    }
   ],
   "source": [
    "user2.username"
   ]
  },
  {
   "cell_type": "markdown",
   "id": "7577b0d4-11a0-49a6-9904-9b12c24dc142",
   "metadata": {},
   "source": [
    "## 1.3 インスタンスメソッド"
   ]
  },
  {
   "cell_type": "code",
   "execution_count": 10,
   "id": "9fa4d53d-e9b7-45b2-af56-aeca5e3a1dc5",
   "metadata": {},
   "outputs": [],
   "source": [
    "class User:\n",
    "    def __init__(self, username):\n",
    "        self.username = username\n",
    "        # print(\"クラスの呼び出し\")\n",
    "\n",
    "    def say_hello(self):\n",
    "        print(f\"Hello, {self.username}!\")"
   ]
  },
  {
   "cell_type": "code",
   "execution_count": 11,
   "id": "f2f34350-319c-47d4-8b6e-8bbf3562788a",
   "metadata": {},
   "outputs": [
    {
     "name": "stdout",
     "output_type": "stream",
     "text": [
      "Tatsuki\n",
      "Hello, Tatsuki!\n"
     ]
    }
   ],
   "source": [
    "user1 = User(\"Tatsuki\")\n",
    "print(user1.username)\n",
    "user1.say_hello()"
   ]
  },
  {
   "cell_type": "code",
   "execution_count": 12,
   "id": "610ca808-f680-4fde-9830-70154f4763ea",
   "metadata": {},
   "outputs": [
    {
     "name": "stdout",
     "output_type": "stream",
     "text": [
      "Akira\n",
      "Hello, Akira!\n"
     ]
    }
   ],
   "source": [
    "user2 = User(\"Akira\")\n",
    "print(user2.username)\n",
    "user2.say_hello()"
   ]
  },
  {
   "cell_type": "code",
   "execution_count": 13,
   "id": "bd4b8dac-2b80-4c19-bc10-61666e969c59",
   "metadata": {},
   "outputs": [],
   "source": [
    "class User:\n",
    "    def __init__(self, username):\n",
    "        self.username = username\n",
    "        # print(\"クラスの呼び出し\")\n",
    "\n",
    "    def say_hello(self):\n",
    "        print(f\"Hello, {self.username}!\")\n",
    "\n",
    "    def say_twice(self):\n",
    "        self.say_hello()\n",
    "        self.say_hello()"
   ]
  },
  {
   "cell_type": "code",
   "execution_count": 14,
   "id": "ef42cbe8-3cf0-4ae0-b07b-238172258210",
   "metadata": {},
   "outputs": [
    {
     "name": "stdout",
     "output_type": "stream",
     "text": [
      "Hello, Tatsuki!\n",
      "Hello, Tatsuki!\n"
     ]
    }
   ],
   "source": [
    "user1 = User(\"Tatsuki\")\n",
    "user1.say_twice()"
   ]
  },
  {
   "cell_type": "markdown",
   "id": "df477dd3-1fc9-4e5a-9f77-2b1c8fdbca08",
   "metadata": {},
   "source": [
    "## 1.4 属性の参照"
   ]
  },
  {
   "cell_type": "code",
   "execution_count": 15,
   "id": "74045516-0925-4b21-b350-22ec3fa6e2ad",
   "metadata": {},
   "outputs": [
    {
     "name": "stdout",
     "output_type": "stream",
     "text": [
      "['__class__', '__delattr__', '__dict__', '__dir__', '__doc__', '__eq__', '__format__', '__ge__', '__getattribute__', '__gt__', '__hash__', '__init__', '__init_subclass__', '__le__', '__lt__', '__module__', '__ne__', '__new__', '__reduce__', '__reduce_ex__', '__repr__', '__setattr__', '__sizeof__', '__str__', '__subclasshook__', '__weakref__', 'say_hello', 'say_twice', 'username']\n"
     ]
    }
   ],
   "source": [
    "print(dir(user1))"
   ]
  },
  {
   "cell_type": "code",
   "execution_count": 16,
   "id": "4567a9cc-7905-4e39-bcda-c6c95e0da1ec",
   "metadata": {},
   "outputs": [
    {
     "name": "stdout",
     "output_type": "stream",
     "text": [
      "['__add__', '__class__', '__class_getitem__', '__contains__', '__delattr__', '__delitem__', '__dir__', '__doc__', '__eq__', '__format__', '__ge__', '__getattribute__', '__getitem__', '__gt__', '__hash__', '__iadd__', '__imul__', '__init__', '__init_subclass__', '__iter__', '__le__', '__len__', '__lt__', '__mul__', '__ne__', '__new__', '__reduce__', '__reduce_ex__', '__repr__', '__reversed__', '__rmul__', '__setattr__', '__setitem__', '__sizeof__', '__str__', '__subclasshook__', 'append', 'clear', 'copy', 'count', 'extend', 'index', 'insert', 'pop', 'remove', 'reverse', 'sort']\n"
     ]
    }
   ],
   "source": [
    "print(dir(list))"
   ]
  },
  {
   "cell_type": "code",
   "execution_count": 17,
   "id": "d2aca1ad-430f-46c8-9a89-967b201cb6f2",
   "metadata": {},
   "outputs": [
    {
     "name": "stdout",
     "output_type": "stream",
     "text": [
      "['__add__', '__class__', '__class_getitem__', '__contains__', '__delattr__', '__dir__', '__doc__', '__eq__', '__format__', '__ge__', '__getattribute__', '__getitem__', '__getnewargs__', '__gt__', '__hash__', '__init__', '__init_subclass__', '__iter__', '__le__', '__len__', '__lt__', '__mul__', '__ne__', '__new__', '__reduce__', '__reduce_ex__', '__repr__', '__rmul__', '__setattr__', '__sizeof__', '__str__', '__subclasshook__', 'count', 'index']\n"
     ]
    }
   ],
   "source": [
    "print(dir(tuple))"
   ]
  },
  {
   "cell_type": "markdown",
   "id": "d6ff0cd1-a891-4b6a-a5bf-cca23234c42a",
   "metadata": {},
   "source": [
    "# 2 クラス変数とクラスメソッド"
   ]
  },
  {
   "cell_type": "markdown",
   "id": "92f8aac7-9083-4e11-b0df-57188aa48581",
   "metadata": {},
   "source": [
    "## 2.1 クラス変数"
   ]
  },
  {
   "cell_type": "code",
   "execution_count": 18,
   "id": "9050e3bd-0ce3-499d-bf63-cf7a55448265",
   "metadata": {},
   "outputs": [],
   "source": [
    "class User:\n",
    "\n",
    "    number_of_users = 0\n",
    "\n",
    "    def __init__(self, username):\n",
    "        User.number_of_users += 1\n",
    "\n",
    "        self.username = username\n",
    "        self.user_id = User.number_of_users\n",
    "\n",
    "    def say_hello(self):\n",
    "        print(f\"Hello, {self.username}!\")"
   ]
  },
  {
   "cell_type": "code",
   "execution_count": 19,
   "id": "d4e451c9-9971-44a1-be8f-463a3ba4870e",
   "metadata": {},
   "outputs": [
    {
     "name": "stdout",
     "output_type": "stream",
     "text": [
      "Tatsuki\n",
      "1\n",
      "Hello, Tatsuki!\n"
     ]
    }
   ],
   "source": [
    "user1 = User(\"Tatsuki\")\n",
    "print(user1.username)\n",
    "print(user1.user_id)\n",
    "user1.say_hello()"
   ]
  },
  {
   "cell_type": "code",
   "execution_count": 20,
   "id": "6d3a71fa-c631-4b5f-a007-4bd11b122874",
   "metadata": {},
   "outputs": [
    {
     "name": "stdout",
     "output_type": "stream",
     "text": [
      "Akira\n",
      "2\n",
      "Hello, Akira!\n"
     ]
    }
   ],
   "source": [
    "user2 = User(\"Akira\")\n",
    "print(user2.username)\n",
    "print(user2.user_id)\n",
    "user2.say_hello()"
   ]
  },
  {
   "cell_type": "code",
   "execution_count": 21,
   "id": "50cefe49-5580-4535-8756-303f926dea4b",
   "metadata": {},
   "outputs": [
    {
     "name": "stdout",
     "output_type": "stream",
     "text": [
      "2\n",
      "2\n",
      "2\n"
     ]
    }
   ],
   "source": [
    "print(User.number_of_users)\n",
    "print(user1.number_of_users)\n",
    "print(user2.number_of_users)"
   ]
  },
  {
   "cell_type": "markdown",
   "id": "920a2dc2-cf76-4202-ab09-1dc4673af6c9",
   "metadata": {},
   "source": [
    "## 2.2 クラスメソッド"
   ]
  },
  {
   "cell_type": "code",
   "execution_count": 22,
   "id": "35943bdf-15c6-4f23-9986-4e63a4362e1e",
   "metadata": {},
   "outputs": [],
   "source": [
    "class User:\n",
    "\n",
    "    number_of_users = 0\n",
    "\n",
    "    def __init__(self, username):\n",
    "        User.number_of_users += 1\n",
    "\n",
    "        self.username = username\n",
    "        self.user_id = User.number_of_users\n",
    "\n",
    "    def say_hello(self):\n",
    "        print(f\"Hello, {self.username}!\")\n",
    "\n",
    "    @classmethod\n",
    "    def say_number_of_users(cls):\n",
    "        print(f\"number of users: {cls.number_of_users}\")"
   ]
  },
  {
   "cell_type": "code",
   "execution_count": 23,
   "id": "004ad362-ffb4-4946-9843-cbb6c9147ddc",
   "metadata": {},
   "outputs": [
    {
     "name": "stdout",
     "output_type": "stream",
     "text": [
      "number of users: 1\n"
     ]
    }
   ],
   "source": [
    "user1 = User(\"Tatsuki\")\n",
    "user1.say_number_of_users()"
   ]
  },
  {
   "cell_type": "code",
   "execution_count": 24,
   "id": "4d6e833b-c9be-4ee2-8050-9de1c3ab3b35",
   "metadata": {},
   "outputs": [
    {
     "name": "stdout",
     "output_type": "stream",
     "text": [
      "number of users: 2\n"
     ]
    }
   ],
   "source": [
    "user2 = User(\"Akira\")\n",
    "user2.say_number_of_users()"
   ]
  },
  {
   "cell_type": "code",
   "execution_count": 25,
   "id": "745f8ce7-fe03-401d-9642-6ce2623b41ff",
   "metadata": {},
   "outputs": [
    {
     "name": "stdout",
     "output_type": "stream",
     "text": [
      "number of users: 2\n",
      "number of users: 2\n",
      "number of users: 2\n"
     ]
    }
   ],
   "source": [
    "User.say_number_of_users()\n",
    "user1.say_number_of_users()\n",
    "user2.say_number_of_users()"
   ]
  },
  {
   "cell_type": "markdown",
   "id": "44f5dcf0-bec9-473d-a760-e509c6036659",
   "metadata": {},
   "source": [
    "# 3 クラスの継承"
   ]
  },
  {
   "cell_type": "markdown",
   "id": "ee6104d0-28bb-4c98-8bc1-bf47f42fcf6e",
   "metadata": {},
   "source": [
    "## 3.1 クラスの継承"
   ]
  },
  {
   "cell_type": "code",
   "execution_count": 26,
   "id": "a7608040-c329-4adc-8406-58b1f4657043",
   "metadata": {},
   "outputs": [],
   "source": [
    "class BaseClass:\n",
    "    def __init__(self):\n",
    "        print(\"BaseClassだよ\")\n",
    "\n",
    "    def function(self):\n",
    "        print(\"functionだよ\")"
   ]
  },
  {
   "cell_type": "code",
   "execution_count": 27,
   "id": "a8e74289-c6c6-4add-a495-cbc3bd4d1a45",
   "metadata": {},
   "outputs": [],
   "source": [
    "class SampleClass(BaseClass):\n",
    "    pass"
   ]
  },
  {
   "cell_type": "code",
   "execution_count": 28,
   "id": "a4b5d7db-29cf-4087-a720-d17d82f54ce3",
   "metadata": {},
   "outputs": [
    {
     "name": "stdout",
     "output_type": "stream",
     "text": [
      "BaseClassだよ\n",
      "functionだよ\n"
     ]
    }
   ],
   "source": [
    "sample_instance = SampleClass()\n",
    "sample_instance.function()"
   ]
  },
  {
   "cell_type": "markdown",
   "id": "da818bfc-a177-4c5a-b631-b291fc24026c",
   "metadata": {},
   "source": [
    "## 3.2 メソッドの追加"
   ]
  },
  {
   "cell_type": "code",
   "execution_count": 29,
   "id": "9a58035c-5da6-47ab-974a-2de377d14767",
   "metadata": {},
   "outputs": [],
   "source": [
    "class BaseClass:\n",
    "    def __init__(self):\n",
    "        print(\"BaseClassだよ\")\n",
    "\n",
    "    def function(self):\n",
    "        print(\"functionだよ\")"
   ]
  },
  {
   "cell_type": "code",
   "execution_count": 30,
   "id": "eee9bbc9-94a0-40c3-b7fc-e74e8eca576d",
   "metadata": {},
   "outputs": [],
   "source": [
    "class SampleClass(BaseClass):\n",
    "    def another_function(self):\n",
    "        print(\"another_functionだよ\")"
   ]
  },
  {
   "cell_type": "code",
   "execution_count": 31,
   "id": "d6168da5-f080-4780-817c-e09dbbcc5826",
   "metadata": {},
   "outputs": [
    {
     "name": "stdout",
     "output_type": "stream",
     "text": [
      "BaseClassだよ\n",
      "functionだよ\n",
      "another_functionだよ\n"
     ]
    }
   ],
   "source": [
    "sample_instance = SampleClass()\n",
    "sample_instance.function()\n",
    "sample_instance.another_function()"
   ]
  },
  {
   "cell_type": "markdown",
   "id": "6f51bbed-c330-46b2-a124-27b8a0dccd46",
   "metadata": {},
   "source": [
    "## 3.3 メソッドのオーバーライド"
   ]
  },
  {
   "cell_type": "code",
   "execution_count": 32,
   "id": "810fbbee-69e1-4273-8f06-cf3b2c52d251",
   "metadata": {},
   "outputs": [],
   "source": [
    "class BaseClass:\n",
    "    def __init__(self):\n",
    "        print(\"BaseClassだよ\")\n",
    "\n",
    "    def function(self):\n",
    "        print(\"functionだよ\")"
   ]
  },
  {
   "cell_type": "code",
   "execution_count": 33,
   "id": "8b8a0fb3-3cae-44f0-b960-44dc5b5671a8",
   "metadata": {},
   "outputs": [],
   "source": [
    "class SampleClass(BaseClass):\n",
    "    def __init__(self):\n",
    "        print(\"SampleClassだよ\")"
   ]
  },
  {
   "cell_type": "code",
   "execution_count": 34,
   "id": "b3c593a8-82ab-4f47-8a43-c454bbc677e5",
   "metadata": {},
   "outputs": [
    {
     "name": "stdout",
     "output_type": "stream",
     "text": [
      "SampleClassだよ\n",
      "functionだよ\n"
     ]
    }
   ],
   "source": [
    "sample_instance = SampleClass()\n",
    "sample_instance.function()"
   ]
  },
  {
   "cell_type": "code",
   "execution_count": 35,
   "id": "db87b154-9b4d-4bf5-a4a1-e6513d43b7f3",
   "metadata": {},
   "outputs": [],
   "source": [
    "class SampleClass(BaseClass):\n",
    "    def __init__(self):\n",
    "        print(\"SampleClassだよ\")\n",
    "        super().__init__()"
   ]
  },
  {
   "cell_type": "code",
   "execution_count": 36,
   "id": "51bd0307-596c-4813-86ef-13544e9b4bf6",
   "metadata": {},
   "outputs": [
    {
     "name": "stdout",
     "output_type": "stream",
     "text": [
      "SampleClassだよ\n",
      "BaseClassだよ\n",
      "functionだよ\n"
     ]
    }
   ],
   "source": [
    "sample_instance = SampleClass()\n",
    "sample_instance.function()"
   ]
  },
  {
   "cell_type": "markdown",
   "id": "c627272f-5e5c-44a8-b67e-642807fca415",
   "metadata": {},
   "source": [
    "## 3.4 抽象基底クラス"
   ]
  },
  {
   "cell_type": "code",
   "execution_count": 37,
   "id": "d0b98377-272c-4b74-bb6b-c754275a4ef0",
   "metadata": {},
   "outputs": [],
   "source": [
    "import abc"
   ]
  },
  {
   "cell_type": "code",
   "execution_count": 38,
   "id": "0dac609e-a412-41bd-985d-e6e35f595251",
   "metadata": {},
   "outputs": [],
   "source": [
    "class Function(abc.ABC):\n",
    "    def __init__(self):\n",
    "        print(\"関数の基底クラス作成\")\n",
    "\n",
    "    @abc.abstractmethod\n",
    "    def function(self):\n",
    "        pass"
   ]
  },
  {
   "cell_type": "code",
   "execution_count": 39,
   "id": "346592c3-466b-4bfb-b139-a98bdaa57f1a",
   "metadata": {},
   "outputs": [],
   "source": [
    "class Add(Function):\n",
    "    pass"
   ]
  },
  {
   "cell_type": "code",
   "execution_count": 40,
   "id": "cfb23346-c68b-4e24-84c2-b492c7821712",
   "metadata": {},
   "outputs": [
    {
     "ename": "TypeError",
     "evalue": "Can't instantiate abstract class Add with abstract method function",
     "output_type": "error",
     "traceback": [
      "\u001b[0;31m---------------------------------------------------------------------------\u001b[0m",
      "\u001b[0;31mTypeError\u001b[0m                                 Traceback (most recent call last)",
      "Input \u001b[0;32mIn [40]\u001b[0m, in \u001b[0;36m<cell line: 1>\u001b[0;34m()\u001b[0m\n\u001b[0;32m----> 1\u001b[0m sample_instance \u001b[38;5;241m=\u001b[39m \u001b[43mAdd\u001b[49m\u001b[43m(\u001b[49m\u001b[43m)\u001b[49m\n",
      "\u001b[0;31mTypeError\u001b[0m: Can't instantiate abstract class Add with abstract method function"
     ]
    }
   ],
   "source": [
    "sample_instance = Add()"
   ]
  },
  {
   "cell_type": "code",
   "execution_count": 41,
   "id": "070e32b5-d43e-417b-b52c-cfbc4c84d19b",
   "metadata": {},
   "outputs": [],
   "source": [
    "class Add(Function):\n",
    "    def function(self, a, b):\n",
    "        y = a + b\n",
    "        return y"
   ]
  },
  {
   "cell_type": "code",
   "execution_count": 42,
   "id": "c84f572d-c8ed-4d52-8698-577ecaa4e2d3",
   "metadata": {},
   "outputs": [
    {
     "name": "stdout",
     "output_type": "stream",
     "text": [
      "関数の基底クラス作成\n"
     ]
    },
    {
     "data": {
      "text/plain": [
       "5"
      ]
     },
     "execution_count": 42,
     "metadata": {},
     "output_type": "execute_result"
    }
   ],
   "source": [
    "sample_instance = Add()\n",
    "sample_instance.function(2, 3)"
   ]
  },
  {
   "cell_type": "code",
   "execution_count": 43,
   "id": "fc0d592c-487b-4690-93ce-d917d2f564de",
   "metadata": {},
   "outputs": [],
   "source": [
    "class Square(Function):\n",
    "    def function(self, a):\n",
    "        y = a ** 2\n",
    "        return y"
   ]
  },
  {
   "cell_type": "code",
   "execution_count": 44,
   "id": "2c493a64-f57e-4d56-8d96-60683a953339",
   "metadata": {},
   "outputs": [
    {
     "name": "stdout",
     "output_type": "stream",
     "text": [
      "関数の基底クラス作成\n"
     ]
    },
    {
     "data": {
      "text/plain": [
       "9"
      ]
     },
     "execution_count": 44,
     "metadata": {},
     "output_type": "execute_result"
    }
   ],
   "source": [
    "sample_instance = Square()\n",
    "sample_instance.function(3)"
   ]
  },
  {
   "cell_type": "code",
   "execution_count": null,
   "id": "99e1fc2e-3e01-4aa1-ba06-d1164ea1b79e",
   "metadata": {},
   "outputs": [],
   "source": []
  }
 ],
 "metadata": {
  "kernelspec": {
   "display_name": "Python 3 (ipykernel)",
   "language": "python",
   "name": "python3"
  },
  "language_info": {
   "codemirror_mode": {
    "name": "ipython",
    "version": 3
   },
   "file_extension": ".py",
   "mimetype": "text/x-python",
   "name": "python",
   "nbconvert_exporter": "python",
   "pygments_lexer": "ipython3",
   "version": "3.9.12"
  }
 },
 "nbformat": 4,
 "nbformat_minor": 5
}
