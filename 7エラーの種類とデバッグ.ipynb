{
 "cells": [
  {
   "cell_type": "markdown",
   "id": "1b2296f7-8dd3-495b-ab9c-4e9000c044b0",
   "metadata": {},
   "source": [
    "# 0 概要"
   ]
  },
  {
   "cell_type": "markdown",
   "id": "3d77829d-18e4-4d6c-86f1-9309f3d3714c",
   "metadata": {},
   "source": [
    "|エラー名|内容|\n",
    "|-|-|\n",
    "|AttributeError|属性の参照や代入が失敗した場合のエラー|\n",
    "|IndexError|存在しないインデックスを指定した場合のエラー|\n",
    "|KeyError|存在しないキーを指定した場合のエラー|\n",
    "|NameError|定義されていない変数名を利用した場合のエラー|\n",
    "|SyntaxError|構文的に誤りがある場合のエラー|\n",
    "|TypeError|演算や関数が誤った型のオブジェクトに対して行われた場合のエラー|\n",
    "|ValueError|オブジェクトの型は正しいが、値が不適切な場合のエラー|\n",
    "|ZeroDivisionError|0で除算しようとした場合のエラー|\n",
    "|ModuleNotFoundError|importしようとしたModuleが存在しない場合のエラー|\n",
    "|IndentationError|インデントが正しくない場合のエラー|"
   ]
  },
  {
   "cell_type": "markdown",
   "id": "b4e8dd79-0b1e-4405-a7f2-75cad18b4168",
   "metadata": {},
   "source": [
    "# 1 基本的なエラー"
   ]
  },
  {
   "cell_type": "markdown",
   "id": "3dcfb073-2846-47f7-a8c5-01cd0c475e5e",
   "metadata": {},
   "source": [
    "## 1.1 AttributeError\n",
    "属性の参照や代入が失敗した場合のエラー"
   ]
  },
  {
   "cell_type": "code",
   "execution_count": 1,
   "id": "3adb85f0-e214-46e8-ae8b-e06897e1f43d",
   "metadata": {},
   "outputs": [
    {
     "ename": "AttributeError",
     "evalue": "'int' object has no attribute 'replace'",
     "output_type": "error",
     "traceback": [
      "\u001b[0;31m---------------------------------------------------------------------------\u001b[0m",
      "\u001b[0;31mAttributeError\u001b[0m                            Traceback (most recent call last)",
      "Input \u001b[0;32mIn [1]\u001b[0m, in \u001b[0;36m<cell line: 2>\u001b[0;34m()\u001b[0m\n\u001b[1;32m      1\u001b[0m a \u001b[38;5;241m=\u001b[39m \u001b[38;5;241m12\u001b[39m\n\u001b[0;32m----> 2\u001b[0m \u001b[43ma\u001b[49m\u001b[38;5;241;43m.\u001b[39;49m\u001b[43mreplace\u001b[49m(\u001b[38;5;241m1\u001b[39m, \u001b[38;5;241m2\u001b[39m)\n",
      "\u001b[0;31mAttributeError\u001b[0m: 'int' object has no attribute 'replace'"
     ]
    }
   ],
   "source": [
    "a = 12\n",
    "a.replace(1, 2)"
   ]
  },
  {
   "cell_type": "markdown",
   "id": "567bc457-c4b1-4d28-b58e-6308f45e70b7",
   "metadata": {},
   "source": [
    "## 1.2 IndexError\n",
    "存在しないインデックスを指定した場合のエラー"
   ]
  },
  {
   "cell_type": "code",
   "execution_count": 2,
   "id": "b47cce09-a953-4aa3-b75b-bc8a6f8791f9",
   "metadata": {},
   "outputs": [
    {
     "ename": "IndexError",
     "evalue": "list index out of range",
     "output_type": "error",
     "traceback": [
      "\u001b[0;31m---------------------------------------------------------------------------\u001b[0m",
      "\u001b[0;31mIndexError\u001b[0m                                Traceback (most recent call last)",
      "Input \u001b[0;32mIn [2]\u001b[0m, in \u001b[0;36m<cell line: 2>\u001b[0;34m()\u001b[0m\n\u001b[1;32m      1\u001b[0m sample_list \u001b[38;5;241m=\u001b[39m [\u001b[38;5;241m1\u001b[39m, \u001b[38;5;241m2\u001b[39m, \u001b[38;5;241m3\u001b[39m]\n\u001b[0;32m----> 2\u001b[0m \u001b[43msample_list\u001b[49m\u001b[43m[\u001b[49m\u001b[38;5;241;43m7\u001b[39;49m\u001b[43m]\u001b[49m\n",
      "\u001b[0;31mIndexError\u001b[0m: list index out of range"
     ]
    }
   ],
   "source": [
    "sample_list = [1, 2, 3]\n",
    "sample_list[7]"
   ]
  },
  {
   "cell_type": "markdown",
   "id": "b57d9028-5153-43a2-bcc7-d7107ead2d81",
   "metadata": {},
   "source": [
    "## 1.3 KeyError\n",
    "存在しないキーを指定した場合のエラー"
   ]
  },
  {
   "cell_type": "code",
   "execution_count": 3,
   "id": "8b6648d1-ce70-4e0b-a02c-13d4418fc561",
   "metadata": {},
   "outputs": [
    {
     "ename": "KeyError",
     "evalue": "'c'",
     "output_type": "error",
     "traceback": [
      "\u001b[0;31m---------------------------------------------------------------------------\u001b[0m",
      "\u001b[0;31mKeyError\u001b[0m                                  Traceback (most recent call last)",
      "Input \u001b[0;32mIn [3]\u001b[0m, in \u001b[0;36m<cell line: 2>\u001b[0;34m()\u001b[0m\n\u001b[1;32m      1\u001b[0m sample_dict \u001b[38;5;241m=\u001b[39m {\u001b[38;5;124m\"\u001b[39m\u001b[38;5;124ma\u001b[39m\u001b[38;5;124m\"\u001b[39m: \u001b[38;5;241m1\u001b[39m, \u001b[38;5;124m\"\u001b[39m\u001b[38;5;124mb\u001b[39m\u001b[38;5;124m\"\u001b[39m: \u001b[38;5;241m2\u001b[39m}\n\u001b[0;32m----> 2\u001b[0m \u001b[43msample_dict\u001b[49m\u001b[43m[\u001b[49m\u001b[38;5;124;43m\"\u001b[39;49m\u001b[38;5;124;43mc\u001b[39;49m\u001b[38;5;124;43m\"\u001b[39;49m\u001b[43m]\u001b[49m\n",
      "\u001b[0;31mKeyError\u001b[0m: 'c'"
     ]
    }
   ],
   "source": [
    "sample_dict = {\"a\": 1, \"b\": 2}\n",
    "sample_dict[\"c\"]"
   ]
  },
  {
   "cell_type": "markdown",
   "id": "95cce15c-e027-41c6-9d60-eba14cfbe765",
   "metadata": {},
   "source": [
    "## 1.4 NameError\n",
    "定義されていない変数名を利用した場合のエラー"
   ]
  },
  {
   "cell_type": "code",
   "execution_count": 4,
   "id": "9bd5e121-de4c-46b5-a945-d314addd95c4",
   "metadata": {},
   "outputs": [
    {
     "ename": "NameError",
     "evalue": "name 'sample_variable' is not defined",
     "output_type": "error",
     "traceback": [
      "\u001b[0;31m---------------------------------------------------------------------------\u001b[0m",
      "\u001b[0;31mNameError\u001b[0m                                 Traceback (most recent call last)",
      "Input \u001b[0;32mIn [4]\u001b[0m, in \u001b[0;36m<cell line: 1>\u001b[0;34m()\u001b[0m\n\u001b[0;32m----> 1\u001b[0m \u001b[43msample_variable\u001b[49m\n",
      "\u001b[0;31mNameError\u001b[0m: name 'sample_variable' is not defined"
     ]
    }
   ],
   "source": [
    "sample_variable"
   ]
  },
  {
   "cell_type": "markdown",
   "id": "931bb464-ff41-4150-881c-08fd2d9e73b8",
   "metadata": {},
   "source": [
    "## 1.5 SyntaxError\n",
    "構文的に誤りがある場合のエラー"
   ]
  },
  {
   "cell_type": "code",
   "execution_count": 5,
   "id": "db32882e-5ad5-4369-a3e0-c7abdcb24fce",
   "metadata": {},
   "outputs": [
    {
     "ename": "SyntaxError",
     "evalue": "EOL while scanning string literal (4264556668.py, line 1)",
     "output_type": "error",
     "traceback": [
      "\u001b[0;36m  Input \u001b[0;32mIn [5]\u001b[0;36m\u001b[0m\n\u001b[0;31m    sample_text = \"Hello, World\u001b[0m\n\u001b[0m                               ^\u001b[0m\n\u001b[0;31mSyntaxError\u001b[0m\u001b[0;31m:\u001b[0m EOL while scanning string literal\n"
     ]
    }
   ],
   "source": [
    "sample_text = \"Hello, World"
   ]
  },
  {
   "cell_type": "markdown",
   "id": "cc37ca45-35be-4f5a-9744-9f475455f64f",
   "metadata": {},
   "source": [
    "## 1.6 TypeError\n",
    "演算や関数が誤った型のオブジェクトに対して行われた場合のエラー"
   ]
  },
  {
   "cell_type": "code",
   "execution_count": 6,
   "id": "047d9992-bce8-47ef-b6bd-bce5b8574830",
   "metadata": {},
   "outputs": [
    {
     "ename": "TypeError",
     "evalue": "can only concatenate str (not \"int\") to str",
     "output_type": "error",
     "traceback": [
      "\u001b[0;31m---------------------------------------------------------------------------\u001b[0m",
      "\u001b[0;31mTypeError\u001b[0m                                 Traceback (most recent call last)",
      "Input \u001b[0;32mIn [6]\u001b[0m, in \u001b[0;36m<cell line: 1>\u001b[0;34m()\u001b[0m\n\u001b[0;32m----> 1\u001b[0m \u001b[38;5;124;43m\"\u001b[39;49m\u001b[38;5;124;43ma\u001b[39;49m\u001b[38;5;124;43m\"\u001b[39;49m\u001b[38;5;241;43m+\u001b[39;49m\u001b[38;5;241;43m1\u001b[39;49m\n",
      "\u001b[0;31mTypeError\u001b[0m: can only concatenate str (not \"int\") to str"
     ]
    }
   ],
   "source": [
    "\"a\"+1"
   ]
  },
  {
   "cell_type": "markdown",
   "id": "1ca29caf-28a1-4b15-a76b-f173fa8e7b22",
   "metadata": {},
   "source": [
    "## 1.7 ValueError\n",
    "オブジェクトの型は正しいが、値が不適切な場合のエラー"
   ]
  },
  {
   "cell_type": "code",
   "execution_count": 7,
   "id": "6faae2ce-b515-4f5c-94c0-27ccf8ed3a93",
   "metadata": {},
   "outputs": [
    {
     "data": {
      "text/plain": [
       "12"
      ]
     },
     "execution_count": 7,
     "metadata": {},
     "output_type": "execute_result"
    }
   ],
   "source": [
    "int(\"12\")"
   ]
  },
  {
   "cell_type": "code",
   "execution_count": 8,
   "id": "e5259398-48f3-49d1-afdb-e49aeb39189d",
   "metadata": {},
   "outputs": [
    {
     "ename": "ValueError",
     "evalue": "invalid literal for int() with base 10: 'a'",
     "output_type": "error",
     "traceback": [
      "\u001b[0;31m---------------------------------------------------------------------------\u001b[0m",
      "\u001b[0;31mValueError\u001b[0m                                Traceback (most recent call last)",
      "Input \u001b[0;32mIn [8]\u001b[0m, in \u001b[0;36m<cell line: 1>\u001b[0;34m()\u001b[0m\n\u001b[0;32m----> 1\u001b[0m \u001b[38;5;28;43mint\u001b[39;49m\u001b[43m(\u001b[49m\u001b[38;5;124;43m\"\u001b[39;49m\u001b[38;5;124;43ma\u001b[39;49m\u001b[38;5;124;43m\"\u001b[39;49m\u001b[43m)\u001b[49m\n",
      "\u001b[0;31mValueError\u001b[0m: invalid literal for int() with base 10: 'a'"
     ]
    }
   ],
   "source": [
    "int(\"a\")"
   ]
  },
  {
   "cell_type": "markdown",
   "id": "d7f0aa5c-9007-4feb-ba98-1b20035d22cb",
   "metadata": {},
   "source": [
    "## 1.8 ZeroDivisionError\n",
    "0で除算しようとした場合のエラー"
   ]
  },
  {
   "cell_type": "code",
   "execution_count": 9,
   "id": "44d02517-6055-4bcd-af63-95419a2651d1",
   "metadata": {},
   "outputs": [
    {
     "ename": "ZeroDivisionError",
     "evalue": "division by zero",
     "output_type": "error",
     "traceback": [
      "\u001b[0;31m---------------------------------------------------------------------------\u001b[0m",
      "\u001b[0;31mZeroDivisionError\u001b[0m                         Traceback (most recent call last)",
      "Input \u001b[0;32mIn [9]\u001b[0m, in \u001b[0;36m<cell line: 1>\u001b[0;34m()\u001b[0m\n\u001b[0;32m----> 1\u001b[0m \u001b[38;5;241;43m2\u001b[39;49m\u001b[38;5;241;43m/\u001b[39;49m\u001b[38;5;241;43m0\u001b[39;49m\n",
      "\u001b[0;31mZeroDivisionError\u001b[0m: division by zero"
     ]
    }
   ],
   "source": [
    "2/0"
   ]
  },
  {
   "cell_type": "markdown",
   "id": "30fc8a68-81a7-4f18-be03-396bdab97575",
   "metadata": {},
   "source": [
    "## 1.9 ModuleNotFoundError\n",
    "importしようとしたModuleが存在しない場合のエラー"
   ]
  },
  {
   "cell_type": "code",
   "execution_count": 10,
   "id": "65d0d507-4471-4062-8824-4faf7353c9f7",
   "metadata": {},
   "outputs": [
    {
     "ename": "ModuleNotFoundError",
     "evalue": "No module named 'abcdefg'",
     "output_type": "error",
     "traceback": [
      "\u001b[0;31m---------------------------------------------------------------------------\u001b[0m",
      "\u001b[0;31mModuleNotFoundError\u001b[0m                       Traceback (most recent call last)",
      "Input \u001b[0;32mIn [10]\u001b[0m, in \u001b[0;36m<cell line: 1>\u001b[0;34m()\u001b[0m\n\u001b[0;32m----> 1\u001b[0m \u001b[38;5;28;01mimport\u001b[39;00m \u001b[38;5;21;01mabcdefg\u001b[39;00m\n",
      "\u001b[0;31mModuleNotFoundError\u001b[0m: No module named 'abcdefg'"
     ]
    }
   ],
   "source": [
    "import abcdefg"
   ]
  },
  {
   "cell_type": "markdown",
   "id": "55d125f7-0ae8-4a46-9942-578ee0ff361d",
   "metadata": {},
   "source": [
    "## 1.10 IndentationError\n",
    "インデントが正しくない場合のエラー"
   ]
  },
  {
   "cell_type": "code",
   "execution_count": 11,
   "id": "20b0b8a6-55a7-4f01-b392-39ad2e016d69",
   "metadata": {},
   "outputs": [
    {
     "ename": "IndentationError",
     "evalue": "unexpected indent (3820227662.py, line 3)",
     "output_type": "error",
     "traceback": [
      "\u001b[0;36m  Input \u001b[0;32mIn [11]\u001b[0;36m\u001b[0m\n\u001b[0;31m    print(\"b\")\u001b[0m\n\u001b[0m    ^\u001b[0m\n\u001b[0;31mIndentationError\u001b[0m\u001b[0;31m:\u001b[0m unexpected indent\n"
     ]
    }
   ],
   "source": [
    "def sample_func():\n",
    "    print(\"a\")\n",
    "        print(\"b\")"
   ]
  },
  {
   "cell_type": "markdown",
   "id": "fccd94a7-593c-4b58-b089-52463be3c7b7",
   "metadata": {},
   "source": [
    "# 2 Traceback"
   ]
  },
  {
   "cell_type": "code",
   "execution_count": 12,
   "id": "fe672ad1-647e-4215-8ffa-c99aecef7a93",
   "metadata": {},
   "outputs": [
    {
     "name": "stdout",
     "output_type": "stream",
     "text": [
      "func1\n",
      "func2\n"
     ]
    },
    {
     "ename": "ValueError",
     "evalue": "invalid literal for int() with base 10: 'a'",
     "output_type": "error",
     "traceback": [
      "\u001b[0;31m---------------------------------------------------------------------------\u001b[0m",
      "\u001b[0;31mValueError\u001b[0m                                Traceback (most recent call last)",
      "Input \u001b[0;32mIn [12]\u001b[0m, in \u001b[0;36m<cell line: 13>\u001b[0;34m()\u001b[0m\n\u001b[1;32m     10\u001b[0m     \u001b[38;5;28mint\u001b[39m(\u001b[38;5;124m\"\u001b[39m\u001b[38;5;124ma\u001b[39m\u001b[38;5;124m\"\u001b[39m)\n\u001b[1;32m     11\u001b[0m     \u001b[38;5;28mprint\u001b[39m(\u001b[38;5;124m\"\u001b[39m\u001b[38;5;124mfunc3\u001b[39m\u001b[38;5;124m\"\u001b[39m)\n\u001b[0;32m---> 13\u001b[0m \u001b[43msample_func1\u001b[49m\u001b[43m(\u001b[49m\u001b[43m)\u001b[49m\n",
      "Input \u001b[0;32mIn [12]\u001b[0m, in \u001b[0;36msample_func1\u001b[0;34m()\u001b[0m\n\u001b[1;32m      1\u001b[0m \u001b[38;5;28;01mdef\u001b[39;00m \u001b[38;5;21msample_func1\u001b[39m():\n\u001b[1;32m      2\u001b[0m     \u001b[38;5;28mprint\u001b[39m(\u001b[38;5;124m\"\u001b[39m\u001b[38;5;124mfunc1\u001b[39m\u001b[38;5;124m\"\u001b[39m)\n\u001b[0;32m----> 3\u001b[0m     \u001b[43msample_func2\u001b[49m\u001b[43m(\u001b[49m\u001b[43m)\u001b[49m\n",
      "Input \u001b[0;32mIn [12]\u001b[0m, in \u001b[0;36msample_func2\u001b[0;34m()\u001b[0m\n\u001b[1;32m      5\u001b[0m \u001b[38;5;28;01mdef\u001b[39;00m \u001b[38;5;21msample_func2\u001b[39m():\n\u001b[1;32m      6\u001b[0m     \u001b[38;5;28mprint\u001b[39m(\u001b[38;5;124m\"\u001b[39m\u001b[38;5;124mfunc2\u001b[39m\u001b[38;5;124m\"\u001b[39m)\n\u001b[0;32m----> 7\u001b[0m     \u001b[43msample_func3\u001b[49m\u001b[43m(\u001b[49m\u001b[43m)\u001b[49m\n",
      "Input \u001b[0;32mIn [12]\u001b[0m, in \u001b[0;36msample_func3\u001b[0;34m()\u001b[0m\n\u001b[1;32m      9\u001b[0m \u001b[38;5;28;01mdef\u001b[39;00m \u001b[38;5;21msample_func3\u001b[39m():\n\u001b[0;32m---> 10\u001b[0m     \u001b[38;5;28;43mint\u001b[39;49m\u001b[43m(\u001b[49m\u001b[38;5;124;43m\"\u001b[39;49m\u001b[38;5;124;43ma\u001b[39;49m\u001b[38;5;124;43m\"\u001b[39;49m\u001b[43m)\u001b[49m\n\u001b[1;32m     11\u001b[0m     \u001b[38;5;28mprint\u001b[39m(\u001b[38;5;124m\"\u001b[39m\u001b[38;5;124mfunc3\u001b[39m\u001b[38;5;124m\"\u001b[39m)\n",
      "\u001b[0;31mValueError\u001b[0m: invalid literal for int() with base 10: 'a'"
     ]
    }
   ],
   "source": [
    "def sample_func1():\n",
    "    print(\"func1\")\n",
    "    sample_func2()\n",
    "    \n",
    "def sample_func2():\n",
    "    print(\"func2\")\n",
    "    sample_func3()\n",
    "    \n",
    "def sample_func3():\n",
    "    int(\"a\")\n",
    "    print(\"func3\")\n",
    "    \n",
    "sample_func1()"
   ]
  },
  {
   "cell_type": "markdown",
   "id": "16d5a521-da5c-4e7e-80a8-7c450086180f",
   "metadata": {},
   "source": [
    "# 3 printデバッグ"
   ]
  },
  {
   "cell_type": "code",
   "execution_count": 13,
   "id": "459b220f-7273-40fc-9d68-24a853703f82",
   "metadata": {},
   "outputs": [
    {
     "name": "stdout",
     "output_type": "stream",
     "text": [
      "func1\n",
      "func2\n"
     ]
    },
    {
     "ename": "IndexError",
     "evalue": "list index out of range",
     "output_type": "error",
     "traceback": [
      "\u001b[0;31m---------------------------------------------------------------------------\u001b[0m",
      "\u001b[0;31mIndexError\u001b[0m                                Traceback (most recent call last)",
      "Input \u001b[0;32mIn [13]\u001b[0m, in \u001b[0;36m<cell line: 16>\u001b[0;34m()\u001b[0m\n\u001b[1;32m     13\u001b[0m     \u001b[38;5;28mprint\u001b[39m(\u001b[38;5;124m\"\u001b[39m\u001b[38;5;124mfunc3\u001b[39m\u001b[38;5;124m\"\u001b[39m)\n\u001b[1;32m     15\u001b[0m input_x \u001b[38;5;241m=\u001b[39m [\u001b[38;5;241m1\u001b[39m, \u001b[38;5;241m2\u001b[39m, \u001b[38;5;241m3\u001b[39m]\n\u001b[0;32m---> 16\u001b[0m \u001b[43msample_func1\u001b[49m\u001b[43m(\u001b[49m\u001b[43minput_x\u001b[49m\u001b[43m)\u001b[49m\n",
      "Input \u001b[0;32mIn [13]\u001b[0m, in \u001b[0;36msample_func1\u001b[0;34m(x)\u001b[0m\n\u001b[1;32m      2\u001b[0m x\u001b[38;5;241m.\u001b[39mextend([\u001b[38;5;241m4\u001b[39m, \u001b[38;5;241m5\u001b[39m, \u001b[38;5;241m6\u001b[39m])\n\u001b[1;32m      3\u001b[0m \u001b[38;5;28mprint\u001b[39m(\u001b[38;5;124m\"\u001b[39m\u001b[38;5;124mfunc1\u001b[39m\u001b[38;5;124m\"\u001b[39m)\n\u001b[0;32m----> 4\u001b[0m \u001b[43msample_func2\u001b[49m\u001b[43m(\u001b[49m\u001b[43mx\u001b[49m\u001b[43m)\u001b[49m\n",
      "Input \u001b[0;32mIn [13]\u001b[0m, in \u001b[0;36msample_func2\u001b[0;34m(x)\u001b[0m\n\u001b[1;32m      7\u001b[0m x\u001b[38;5;241m.\u001b[39mextend([\u001b[38;5;241m7\u001b[39m, \u001b[38;5;241m8\u001b[39m, \u001b[38;5;241m9\u001b[39m])\n\u001b[1;32m      8\u001b[0m \u001b[38;5;28mprint\u001b[39m(\u001b[38;5;124m\"\u001b[39m\u001b[38;5;124mfunc2\u001b[39m\u001b[38;5;124m\"\u001b[39m)\n\u001b[0;32m----> 9\u001b[0m \u001b[43msample_func3\u001b[49m\u001b[43m(\u001b[49m\u001b[43mx\u001b[49m\u001b[43m)\u001b[49m\n",
      "Input \u001b[0;32mIn [13]\u001b[0m, in \u001b[0;36msample_func3\u001b[0;34m(x)\u001b[0m\n\u001b[1;32m     11\u001b[0m \u001b[38;5;28;01mdef\u001b[39;00m \u001b[38;5;21msample_func3\u001b[39m(x):\n\u001b[0;32m---> 12\u001b[0m     \u001b[43mx\u001b[49m\u001b[43m[\u001b[49m\u001b[38;5;241;43m9\u001b[39;49m\u001b[43m]\u001b[49m\n\u001b[1;32m     13\u001b[0m     \u001b[38;5;28mprint\u001b[39m(\u001b[38;5;124m\"\u001b[39m\u001b[38;5;124mfunc3\u001b[39m\u001b[38;5;124m\"\u001b[39m)\n",
      "\u001b[0;31mIndexError\u001b[0m: list index out of range"
     ]
    }
   ],
   "source": [
    "def sample_func1(x):\n",
    "    x.extend([4, 5, 6])\n",
    "    print(\"func1\")\n",
    "    sample_func2(x)\n",
    "    \n",
    "def sample_func2(x):\n",
    "    x.extend([7, 8, 9])\n",
    "    print(\"func2\")\n",
    "    sample_func3(x)\n",
    "    \n",
    "def sample_func3(x):\n",
    "    x[9]\n",
    "    print(\"func3\")\n",
    "    \n",
    "input_x = [1, 2, 3]\n",
    "sample_func1(input_x)"
   ]
  },
  {
   "cell_type": "code",
   "execution_count": 14,
   "id": "4752f819-2153-4c8a-ab83-0181fbad04e3",
   "metadata": {},
   "outputs": [
    {
     "name": "stdout",
     "output_type": "stream",
     "text": [
      "func1\n",
      "func2\n",
      "[1, 2, 3, 4, 5, 6, 7, 8, 9]\n"
     ]
    },
    {
     "ename": "IndexError",
     "evalue": "list index out of range",
     "output_type": "error",
     "traceback": [
      "\u001b[0;31m---------------------------------------------------------------------------\u001b[0m",
      "\u001b[0;31mIndexError\u001b[0m                                Traceback (most recent call last)",
      "Input \u001b[0;32mIn [14]\u001b[0m, in \u001b[0;36m<cell line: 17>\u001b[0;34m()\u001b[0m\n\u001b[1;32m     14\u001b[0m     \u001b[38;5;28mprint\u001b[39m(\u001b[38;5;124m\"\u001b[39m\u001b[38;5;124mfunc3\u001b[39m\u001b[38;5;124m\"\u001b[39m)\n\u001b[1;32m     16\u001b[0m input_x \u001b[38;5;241m=\u001b[39m [\u001b[38;5;241m1\u001b[39m, \u001b[38;5;241m2\u001b[39m, \u001b[38;5;241m3\u001b[39m]\n\u001b[0;32m---> 17\u001b[0m \u001b[43msample_func1\u001b[49m\u001b[43m(\u001b[49m\u001b[43minput_x\u001b[49m\u001b[43m)\u001b[49m\n",
      "Input \u001b[0;32mIn [14]\u001b[0m, in \u001b[0;36msample_func1\u001b[0;34m(x)\u001b[0m\n\u001b[1;32m      2\u001b[0m x\u001b[38;5;241m.\u001b[39mextend([\u001b[38;5;241m4\u001b[39m, \u001b[38;5;241m5\u001b[39m, \u001b[38;5;241m6\u001b[39m])\n\u001b[1;32m      3\u001b[0m \u001b[38;5;28mprint\u001b[39m(\u001b[38;5;124m\"\u001b[39m\u001b[38;5;124mfunc1\u001b[39m\u001b[38;5;124m\"\u001b[39m)\n\u001b[0;32m----> 4\u001b[0m \u001b[43msample_func2\u001b[49m\u001b[43m(\u001b[49m\u001b[43mx\u001b[49m\u001b[43m)\u001b[49m\n",
      "Input \u001b[0;32mIn [14]\u001b[0m, in \u001b[0;36msample_func2\u001b[0;34m(x)\u001b[0m\n\u001b[1;32m      7\u001b[0m x\u001b[38;5;241m.\u001b[39mextend([\u001b[38;5;241m7\u001b[39m, \u001b[38;5;241m8\u001b[39m, \u001b[38;5;241m9\u001b[39m])\n\u001b[1;32m      8\u001b[0m \u001b[38;5;28mprint\u001b[39m(\u001b[38;5;124m\"\u001b[39m\u001b[38;5;124mfunc2\u001b[39m\u001b[38;5;124m\"\u001b[39m)\n\u001b[0;32m----> 9\u001b[0m \u001b[43msample_func3\u001b[49m\u001b[43m(\u001b[49m\u001b[43mx\u001b[49m\u001b[43m)\u001b[49m\n",
      "Input \u001b[0;32mIn [14]\u001b[0m, in \u001b[0;36msample_func3\u001b[0;34m(x)\u001b[0m\n\u001b[1;32m     11\u001b[0m \u001b[38;5;28;01mdef\u001b[39;00m \u001b[38;5;21msample_func3\u001b[39m(x):\n\u001b[1;32m     12\u001b[0m     \u001b[38;5;28mprint\u001b[39m(x)\n\u001b[0;32m---> 13\u001b[0m     \u001b[43mx\u001b[49m\u001b[43m[\u001b[49m\u001b[38;5;241;43m9\u001b[39;49m\u001b[43m]\u001b[49m\n\u001b[1;32m     14\u001b[0m     \u001b[38;5;28mprint\u001b[39m(\u001b[38;5;124m\"\u001b[39m\u001b[38;5;124mfunc3\u001b[39m\u001b[38;5;124m\"\u001b[39m)\n",
      "\u001b[0;31mIndexError\u001b[0m: list index out of range"
     ]
    }
   ],
   "source": [
    "def sample_func1(x):\n",
    "    x.extend([4, 5, 6])\n",
    "    print(\"func1\")\n",
    "    sample_func2(x)\n",
    "    \n",
    "def sample_func2(x):\n",
    "    x.extend([7, 8, 9])\n",
    "    print(\"func2\")\n",
    "    sample_func3(x)\n",
    "    \n",
    "def sample_func3(x):\n",
    "    print(x)\n",
    "    x[9]\n",
    "    print(\"func3\")\n",
    "    \n",
    "input_x = [1, 2, 3]\n",
    "sample_func1(input_x)"
   ]
  },
  {
   "cell_type": "code",
   "execution_count": 15,
   "id": "81c739ea-8ef2-443d-82d1-f14c90265fee",
   "metadata": {},
   "outputs": [
    {
     "name": "stdout",
     "output_type": "stream",
     "text": [
      "[1, 2, 3]\n",
      "func1\n",
      "[1, 2, 3, 4, 5, 6]\n",
      "func2\n",
      "[1, 2, 3, 4, 5, 6, 7, 8, 9]\n"
     ]
    },
    {
     "ename": "IndexError",
     "evalue": "list index out of range",
     "output_type": "error",
     "traceback": [
      "\u001b[0;31m---------------------------------------------------------------------------\u001b[0m",
      "\u001b[0;31mIndexError\u001b[0m                                Traceback (most recent call last)",
      "Input \u001b[0;32mIn [15]\u001b[0m, in \u001b[0;36m<cell line: 19>\u001b[0;34m()\u001b[0m\n\u001b[1;32m     16\u001b[0m     \u001b[38;5;28mprint\u001b[39m(\u001b[38;5;124m\"\u001b[39m\u001b[38;5;124mfunc3\u001b[39m\u001b[38;5;124m\"\u001b[39m)\n\u001b[1;32m     18\u001b[0m input_x \u001b[38;5;241m=\u001b[39m [\u001b[38;5;241m1\u001b[39m, \u001b[38;5;241m2\u001b[39m, \u001b[38;5;241m3\u001b[39m]\n\u001b[0;32m---> 19\u001b[0m \u001b[43msample_func1\u001b[49m\u001b[43m(\u001b[49m\u001b[43minput_x\u001b[49m\u001b[43m)\u001b[49m\n",
      "Input \u001b[0;32mIn [15]\u001b[0m, in \u001b[0;36msample_func1\u001b[0;34m(x)\u001b[0m\n\u001b[1;32m      3\u001b[0m x\u001b[38;5;241m.\u001b[39mextend([\u001b[38;5;241m4\u001b[39m, \u001b[38;5;241m5\u001b[39m, \u001b[38;5;241m6\u001b[39m])\n\u001b[1;32m      4\u001b[0m \u001b[38;5;28mprint\u001b[39m(\u001b[38;5;124m\"\u001b[39m\u001b[38;5;124mfunc1\u001b[39m\u001b[38;5;124m\"\u001b[39m)\n\u001b[0;32m----> 5\u001b[0m \u001b[43msample_func2\u001b[49m\u001b[43m(\u001b[49m\u001b[43mx\u001b[49m\u001b[43m)\u001b[49m\n",
      "Input \u001b[0;32mIn [15]\u001b[0m, in \u001b[0;36msample_func2\u001b[0;34m(x)\u001b[0m\n\u001b[1;32m      9\u001b[0m x\u001b[38;5;241m.\u001b[39mextend([\u001b[38;5;241m7\u001b[39m, \u001b[38;5;241m8\u001b[39m, \u001b[38;5;241m9\u001b[39m])\n\u001b[1;32m     10\u001b[0m \u001b[38;5;28mprint\u001b[39m(\u001b[38;5;124m\"\u001b[39m\u001b[38;5;124mfunc2\u001b[39m\u001b[38;5;124m\"\u001b[39m)\n\u001b[0;32m---> 11\u001b[0m \u001b[43msample_func3\u001b[49m\u001b[43m(\u001b[49m\u001b[43mx\u001b[49m\u001b[43m)\u001b[49m\n",
      "Input \u001b[0;32mIn [15]\u001b[0m, in \u001b[0;36msample_func3\u001b[0;34m(x)\u001b[0m\n\u001b[1;32m     13\u001b[0m \u001b[38;5;28;01mdef\u001b[39;00m \u001b[38;5;21msample_func3\u001b[39m(x):\n\u001b[1;32m     14\u001b[0m     \u001b[38;5;28mprint\u001b[39m(x)\n\u001b[0;32m---> 15\u001b[0m     \u001b[43mx\u001b[49m\u001b[43m[\u001b[49m\u001b[38;5;241;43m9\u001b[39;49m\u001b[43m]\u001b[49m\n\u001b[1;32m     16\u001b[0m     \u001b[38;5;28mprint\u001b[39m(\u001b[38;5;124m\"\u001b[39m\u001b[38;5;124mfunc3\u001b[39m\u001b[38;5;124m\"\u001b[39m)\n",
      "\u001b[0;31mIndexError\u001b[0m: list index out of range"
     ]
    }
   ],
   "source": [
    "def sample_func1(x):\n",
    "    print(x)\n",
    "    x.extend([4, 5, 6])\n",
    "    print(\"func1\")\n",
    "    sample_func2(x)\n",
    "    \n",
    "def sample_func2(x):\n",
    "    print(x)\n",
    "    x.extend([7, 8, 9])\n",
    "    print(\"func2\")\n",
    "    sample_func3(x)\n",
    "    \n",
    "def sample_func3(x):\n",
    "    print(x)\n",
    "    x[9]\n",
    "    print(\"func3\")\n",
    "    \n",
    "input_x = [1, 2, 3]\n",
    "sample_func1(input_x)"
   ]
  },
  {
   "cell_type": "markdown",
   "id": "d427bd25-6228-4cd6-b7e5-0913486d2777",
   "metadata": {},
   "source": [
    "# 4 コピペデバッグ"
   ]
  },
  {
   "cell_type": "code",
   "execution_count": 16,
   "id": "eba400aa-1cae-49d2-8e61-5cf95036ff7c",
   "metadata": {},
   "outputs": [
    {
     "name": "stdout",
     "output_type": "stream",
     "text": [
      "func1\n",
      "func2\n"
     ]
    },
    {
     "ename": "ValueError",
     "evalue": "invalid literal for int() with base 10: 'a'",
     "output_type": "error",
     "traceback": [
      "\u001b[0;31m---------------------------------------------------------------------------\u001b[0m",
      "\u001b[0;31mValueError\u001b[0m                                Traceback (most recent call last)",
      "Input \u001b[0;32mIn [16]\u001b[0m, in \u001b[0;36m<cell line: 13>\u001b[0;34m()\u001b[0m\n\u001b[1;32m     10\u001b[0m     \u001b[38;5;28mint\u001b[39m(\u001b[38;5;124m\"\u001b[39m\u001b[38;5;124ma\u001b[39m\u001b[38;5;124m\"\u001b[39m)\n\u001b[1;32m     11\u001b[0m     \u001b[38;5;28mprint\u001b[39m(\u001b[38;5;124m\"\u001b[39m\u001b[38;5;124mfunc3\u001b[39m\u001b[38;5;124m\"\u001b[39m)\n\u001b[0;32m---> 13\u001b[0m \u001b[43msample_func1\u001b[49m\u001b[43m(\u001b[49m\u001b[43m)\u001b[49m\n",
      "Input \u001b[0;32mIn [16]\u001b[0m, in \u001b[0;36msample_func1\u001b[0;34m()\u001b[0m\n\u001b[1;32m      1\u001b[0m \u001b[38;5;28;01mdef\u001b[39;00m \u001b[38;5;21msample_func1\u001b[39m():\n\u001b[1;32m      2\u001b[0m     \u001b[38;5;28mprint\u001b[39m(\u001b[38;5;124m\"\u001b[39m\u001b[38;5;124mfunc1\u001b[39m\u001b[38;5;124m\"\u001b[39m)\n\u001b[0;32m----> 3\u001b[0m     \u001b[43msample_func2\u001b[49m\u001b[43m(\u001b[49m\u001b[43m)\u001b[49m\n",
      "Input \u001b[0;32mIn [16]\u001b[0m, in \u001b[0;36msample_func2\u001b[0;34m()\u001b[0m\n\u001b[1;32m      5\u001b[0m \u001b[38;5;28;01mdef\u001b[39;00m \u001b[38;5;21msample_func2\u001b[39m():\n\u001b[1;32m      6\u001b[0m     \u001b[38;5;28mprint\u001b[39m(\u001b[38;5;124m\"\u001b[39m\u001b[38;5;124mfunc2\u001b[39m\u001b[38;5;124m\"\u001b[39m)\n\u001b[0;32m----> 7\u001b[0m     \u001b[43msample_func3\u001b[49m\u001b[43m(\u001b[49m\u001b[43m)\u001b[49m\n",
      "Input \u001b[0;32mIn [16]\u001b[0m, in \u001b[0;36msample_func3\u001b[0;34m()\u001b[0m\n\u001b[1;32m      9\u001b[0m \u001b[38;5;28;01mdef\u001b[39;00m \u001b[38;5;21msample_func3\u001b[39m():\n\u001b[0;32m---> 10\u001b[0m     \u001b[38;5;28;43mint\u001b[39;49m\u001b[43m(\u001b[49m\u001b[38;5;124;43m\"\u001b[39;49m\u001b[38;5;124;43ma\u001b[39;49m\u001b[38;5;124;43m\"\u001b[39;49m\u001b[43m)\u001b[49m\n\u001b[1;32m     11\u001b[0m     \u001b[38;5;28mprint\u001b[39m(\u001b[38;5;124m\"\u001b[39m\u001b[38;5;124mfunc3\u001b[39m\u001b[38;5;124m\"\u001b[39m)\n",
      "\u001b[0;31mValueError\u001b[0m: invalid literal for int() with base 10: 'a'"
     ]
    }
   ],
   "source": [
    "def sample_func1():\n",
    "    print(\"func1\")\n",
    "    sample_func2()\n",
    "    \n",
    "def sample_func2():\n",
    "    print(\"func2\")\n",
    "    sample_func3()\n",
    "    \n",
    "def sample_func3():\n",
    "    int(\"a\")\n",
    "    print(\"func3\")\n",
    "    \n",
    "sample_func1()"
   ]
  },
  {
   "cell_type": "code",
   "execution_count": null,
   "id": "7dd1a340-97ae-4c24-887e-2d7b3546bfcb",
   "metadata": {},
   "outputs": [],
   "source": []
  }
 ],
 "metadata": {
  "kernelspec": {
   "display_name": "Python 3 (ipykernel)",
   "language": "python",
   "name": "python3"
  },
  "language_info": {
   "codemirror_mode": {
    "name": "ipython",
    "version": 3
   },
   "file_extension": ".py",
   "mimetype": "text/x-python",
   "name": "python",
   "nbconvert_exporter": "python",
   "pygments_lexer": "ipython3",
   "version": "3.9.12"
  }
 },
 "nbformat": 4,
 "nbformat_minor": 5
}
