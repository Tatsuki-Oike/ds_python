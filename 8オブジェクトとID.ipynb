{
 "cells": [
  {
   "cell_type": "markdown",
   "id": "a218aee3-5dbe-4e8e-acb1-7c41dc12d86d",
   "metadata": {},
   "source": [
    "|オブジェクト|type|id|\n",
    "|-|-|-|\n",
    "|3|int|140261284047216|\n",
    "|\"Hello\"|str|140261292323568|\n",
    "|[0, 1, 2]|list|140261292710912|\n",
    "|{\"a\": 1, \"b\": 2}|dict|14026129271078|\n",
    "|None|NoneType|4303592416|"
   ]
  },
  {
   "cell_type": "markdown",
   "id": "36fb72a2-4e5f-4c45-9cbc-21b0e241bac2",
   "metadata": {},
   "source": [
    "# 1 typeとid"
   ]
  },
  {
   "cell_type": "code",
   "execution_count": 1,
   "id": "33a5626a-7872-49a8-a711-0e2e5a164404",
   "metadata": {},
   "outputs": [],
   "source": [
    "sample_int = 3\n",
    "sample_str = \"Hello\"\n",
    "sample_list = [0, 1, 2]\n",
    "sample_dict = {\"a\": 1, \"b\": 2}"
   ]
  },
  {
   "cell_type": "code",
   "execution_count": 2,
   "id": "8335e6ad-0bfa-4dc8-9383-2f5e1a3d7581",
   "metadata": {},
   "outputs": [
    {
     "name": "stdout",
     "output_type": "stream",
     "text": [
      "<class 'int'> <class 'str'> <class 'list'> <class 'dict'>\n"
     ]
    }
   ],
   "source": [
    "print(type(sample_int), type(sample_str), type(sample_list), type(sample_dict))"
   ]
  },
  {
   "cell_type": "code",
   "execution_count": 3,
   "id": "976ba4ad-334b-462b-bafe-619753a2cbdf",
   "metadata": {},
   "outputs": [
    {
     "name": "stdout",
     "output_type": "stream",
     "text": [
      "140261284047216 140261292323568 140261292710912 140261292710784\n"
     ]
    }
   ],
   "source": [
    "print(id(sample_int), id(sample_str), id(sample_list), id(sample_dict))"
   ]
  },
  {
   "cell_type": "code",
   "execution_count": 4,
   "id": "fc126e29-de48-43dd-b067-91bcdd0d552f",
   "metadata": {},
   "outputs": [
    {
     "name": "stdout",
     "output_type": "stream",
     "text": [
      "140261285639536 140261015791088\n",
      "140261284047120 140261284047152\n",
      "140261284047152 140261284047184\n"
     ]
    }
   ],
   "source": [
    "print(id(sample_str[0]), id(sample_str[1]))\n",
    "print(id(sample_list[0]), id(sample_list[1]))\n",
    "print(id(sample_dict[\"a\"]), id(sample_dict[\"b\"]))"
   ]
  },
  {
   "cell_type": "markdown",
   "id": "b72955e2-c7f6-4060-ac20-ca3f2bcb34d4",
   "metadata": {},
   "source": [
    "# 2 mutable"
   ]
  },
  {
   "cell_type": "code",
   "execution_count": 5,
   "id": "2e66ee5a-19ec-42f7-ac40-6c2fae512b45",
   "metadata": {},
   "outputs": [
    {
     "name": "stdout",
     "output_type": "stream",
     "text": [
      "140261284047216\n",
      "140261284047248\n"
     ]
    }
   ],
   "source": [
    "sample_int = 3\n",
    "print(id(sample_int))\n",
    "sample_int = 4\n",
    "print(id(sample_int))"
   ]
  },
  {
   "cell_type": "code",
   "execution_count": 6,
   "id": "bd2e768f-5dd6-4f19-8b63-01500714b254",
   "metadata": {},
   "outputs": [
    {
     "name": "stdout",
     "output_type": "stream",
     "text": [
      "[0, 1, 2] 140261292728896\n",
      "140261284047120 140261284047152 140261284047184\n",
      "[10, 1, 2] 140261292728896\n",
      "140261284047440 140261284047152 140261284047184\n"
     ]
    }
   ],
   "source": [
    "sample_list = [0, 1, 2]\n",
    "print(sample_list, id(sample_list))\n",
    "print(id(sample_list[0]), id(sample_list[1]), id(sample_list[2]))\n",
    "sample_list[0] = 10\n",
    "print(sample_list, id(sample_list))\n",
    "print(id(sample_list[0]), id(sample_list[1]), id(sample_list[2]))"
   ]
  },
  {
   "cell_type": "markdown",
   "id": "8c8824e0-bca1-4925-8529-5925f3bf153e",
   "metadata": {},
   "source": [
    "# 3 copy"
   ]
  },
  {
   "cell_type": "code",
   "execution_count": 7,
   "id": "21b70419-0936-495d-8cd0-82119ce9db79",
   "metadata": {},
   "outputs": [
    {
     "name": "stdout",
     "output_type": "stream",
     "text": [
      "[0, 1, 2] 140261292724800\n",
      "[0, 1, 2] 140261292724800\n"
     ]
    }
   ],
   "source": [
    "sample_list = [0, 1, 2]\n",
    "print(sample_list, id(sample_list))\n",
    "sample_list_copy = sample_list\n",
    "print(sample_list_copy, id(sample_list_copy))"
   ]
  },
  {
   "cell_type": "code",
   "execution_count": 8,
   "id": "b4f44cfe-2821-4d83-9699-e120ecdfd00e",
   "metadata": {},
   "outputs": [
    {
     "name": "stdout",
     "output_type": "stream",
     "text": [
      "[10, 1, 2] 140261292724800\n",
      "[10, 1, 2] 140261292724800\n"
     ]
    }
   ],
   "source": [
    "sample_list_copy[0] = 10\n",
    "print(sample_list, id(sample_list))\n",
    "print(sample_list_copy, id(sample_list_copy))"
   ]
  },
  {
   "cell_type": "code",
   "execution_count": 9,
   "id": "7caa653a-60a0-4dc3-9570-edc71dc8e17f",
   "metadata": {},
   "outputs": [
    {
     "name": "stdout",
     "output_type": "stream",
     "text": [
      "[0, 1, 2] 140261292731968\n",
      "[0, 1, 2] 140261292726912\n"
     ]
    }
   ],
   "source": [
    "sample_list = [0, 1, 2]\n",
    "print(sample_list, id(sample_list))\n",
    "sample_list_copy = sample_list.copy()\n",
    "print(sample_list_copy, id(sample_list_copy))"
   ]
  },
  {
   "cell_type": "code",
   "execution_count": 10,
   "id": "66bdf820-0ace-4a47-b87a-79edd505d939",
   "metadata": {},
   "outputs": [
    {
     "name": "stdout",
     "output_type": "stream",
     "text": [
      "[0, 1, 2] 140261292731968\n",
      "[10, 1, 2] 140261292726912\n"
     ]
    }
   ],
   "source": [
    "sample_list_copy[0] = 10\n",
    "print(sample_list, id(sample_list))\n",
    "print(sample_list_copy, id(sample_list_copy))"
   ]
  },
  {
   "cell_type": "markdown",
   "id": "bc60b97d-a784-4214-90d5-520359d03085",
   "metadata": {},
   "source": [
    "# 4 is"
   ]
  },
  {
   "cell_type": "code",
   "execution_count": 11,
   "id": "28c539d5-6399-44c0-b0c4-23f8db8a60ec",
   "metadata": {},
   "outputs": [
    {
     "name": "stdout",
     "output_type": "stream",
     "text": [
      "[0, 1, 2] 140261292727872\n",
      "[0, 1, 2] 140261292727872\n",
      "True\n",
      "True\n"
     ]
    }
   ],
   "source": [
    "sample_list = [0, 1, 2]\n",
    "print(sample_list, id(sample_list))\n",
    "sample_list_copy = sample_list\n",
    "print(sample_list_copy, id(sample_list_copy))\n",
    "\n",
    "print(sample_list == sample_list_copy)\n",
    "print(sample_list is sample_list_copy)"
   ]
  },
  {
   "cell_type": "code",
   "execution_count": 12,
   "id": "f6aa8cf1-1357-482d-8023-60870e761ae8",
   "metadata": {},
   "outputs": [
    {
     "name": "stdout",
     "output_type": "stream",
     "text": [
      "[0, 1, 2] 140261292726336\n",
      "[0, 1, 2] 140261292719744\n",
      "True\n",
      "False\n"
     ]
    }
   ],
   "source": [
    "sample_list = [0, 1, 2]\n",
    "print(sample_list, id(sample_list))\n",
    "sample_list_copy = sample_list.copy()\n",
    "print(sample_list_copy, id(sample_list_copy))\n",
    "\n",
    "print(sample_list == sample_list_copy)\n",
    "print(sample_list is sample_list_copy)"
   ]
  },
  {
   "cell_type": "code",
   "execution_count": 13,
   "id": "fe32a68b-f30c-4d8d-baf2-0fd56a5b21b4",
   "metadata": {},
   "outputs": [
    {
     "name": "stdout",
     "output_type": "stream",
     "text": [
      "140261292728640\n",
      "140261292725248\n",
      "140261292725056\n",
      "False\n"
     ]
    }
   ],
   "source": [
    "a = [0, 1, 2]\n",
    "b = [0, 1, 2]\n",
    "print(id([0, 1, 2]))\n",
    "print(id(a))\n",
    "print(id(b))\n",
    "print(a is b)"
   ]
  },
  {
   "cell_type": "code",
   "execution_count": 14,
   "id": "f1d226f8-7785-45fd-8e96-8b02d5d40b7c",
   "metadata": {},
   "outputs": [
    {
     "name": "stdout",
     "output_type": "stream",
     "text": [
      "None\n",
      "4303592416\n",
      "4303592416\n",
      "True\n"
     ]
    }
   ],
   "source": [
    "a = None\n",
    "b = None\n",
    "print(None)\n",
    "print(id(a))\n",
    "print(id(b))\n",
    "print(a is b)"
   ]
  },
  {
   "cell_type": "markdown",
   "id": "b5a94ea0-36e5-446b-b076-ad682a9fee1d",
   "metadata": {},
   "source": [
    "# 5 tupleはmutable?"
   ]
  },
  {
   "cell_type": "code",
   "execution_count": 15,
   "id": "e8377886-c340-4687-be0c-1e5eeffddb2a",
   "metadata": {},
   "outputs": [
    {
     "name": "stdout",
     "output_type": "stream",
     "text": [
      "(0, 1, [2, 3]) 140261292643136\n",
      "140261284047120 140261284047152 140261292731008\n",
      "\n",
      "(0, 1, [2, 3, 4]) 140261292643136\n",
      "140261284047120 140261284047152 140261292731008\n"
     ]
    }
   ],
   "source": [
    "sample_tuple = (0, 1, [2, 3])\n",
    "print(sample_tuple, id(sample_tuple))\n",
    "print(id(sample_tuple[0]), id(sample_tuple[1]), id(sample_tuple[2]))\n",
    "\n",
    "sample_tuple[2].append(4)\n",
    "print()\n",
    "print(sample_tuple, id(sample_tuple))\n",
    "print(id(sample_tuple[0]), id(sample_tuple[1]), id(sample_tuple[2]))"
   ]
  },
  {
   "cell_type": "code",
   "execution_count": null,
   "id": "b63de8a3-3011-4609-a942-2f5ea5c83616",
   "metadata": {},
   "outputs": [],
   "source": []
  }
 ],
 "metadata": {
  "kernelspec": {
   "display_name": "Python 3 (ipykernel)",
   "language": "python",
   "name": "python3"
  },
  "language_info": {
   "codemirror_mode": {
    "name": "ipython",
    "version": 3
   },
   "file_extension": ".py",
   "mimetype": "text/x-python",
   "name": "python",
   "nbconvert_exporter": "python",
   "pygments_lexer": "ipython3",
   "version": "3.9.12"
  }
 },
 "nbformat": 4,
 "nbformat_minor": 5
}
